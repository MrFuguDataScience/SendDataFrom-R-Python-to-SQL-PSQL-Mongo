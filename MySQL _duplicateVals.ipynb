{
 "cells": [
  {
   "cell_type": "markdown",
   "metadata": {},
   "source": [
    "# `MySQL Dealing with Dupicate Data: with Python`\n",
    "\n",
    "# <font color=red>Mr Fugu Data Science</font>\n",
    "\n",
    "# (◕‿◕✿)\n",
    "\n"
   ]
  },
  {
   "cell_type": "markdown",
   "metadata": {},
   "source": [
    "# If you don't have user credentials:\n",
    "\n",
    "`heres how you can set it up`\n",
    "\n",
    "First, don't forget to establish a connection to MySQL, I used the `mysl.server.start` on Mac since I don't have it on all the time.\n",
    "\n",
    "[video covering credentials MuSQL and Psql](https://youtu.be/kIS58p9m9Io) | [Mysql connection and credentials setup](https://youtu.be/9kvHZnIz_zw)"
   ]
  },
  {
   "cell_type": "code",
   "execution_count": 41,
   "metadata": {},
   "outputs": [],
   "source": [
    "import mysql.connector as mysql # Establish connection to mysql \n",
    "\n",
    "from mysql.connector import MySQLConnection # Using Class for function call\n",
    "\n",
    "import pandas as pd  # Create Dataframe\n",
    "\n",
    "import os,datetime"
   ]
  },
  {
   "cell_type": "code",
   "execution_count": 3,
   "metadata": {},
   "outputs": [],
   "source": [
    "def os_any_dir_search(file):\n",
    "    u=[]\n",
    "    for p,n,f in os.walk(os.getcwd()):\n",
    "        \n",
    "        for a in f:\n",
    "            a = str(a)\n",
    "            if a.endswith(file): # can be (.csv) or a file like I did and search \n",
    "#                 print(a)\n",
    "#                 print(p)\n",
    "#                 t=pd.read_json(p+'/'+file)\n",
    "                u.append(p+'/')\n",
    "    return u"
   ]
  },
  {
   "cell_type": "code",
   "execution_count": 4,
   "metadata": {},
   "outputs": [],
   "source": [
    "t=os_any_dir_search('python_to_myql_config.py')\n",
    "t\n",
    "os.chdir(t[0])\n",
    "\n",
    "\n",
    "from python_to_myql_config import read_db_config # calling config files\n",
    "\n",
    "db_config = read_db_config() # user credentials\n",
    "\n",
    "conn = MySQLConnection(**read_db_config()) # establish connection\n",
    "\n",
    "mycursor = conn.cursor() # cursor, allows us to do queries,send/retrieve data"
   ]
  },
  {
   "cell_type": "code",
   "execution_count": 5,
   "metadata": {},
   "outputs": [
    {
     "data": {
      "text/plain": [
       "'/Users/zatoichi59/Desktop/youtube_vid_code'"
      ]
     },
     "execution_count": 5,
     "metadata": {},
     "output_type": "execute_result"
    }
   ],
   "source": [
    "os.getcwd() # get current working directory since I changed it"
   ]
  },
  {
   "cell_type": "markdown",
   "metadata": {},
   "source": [
    "# `Transactions Data:`\n",
    "\n",
    "+ we want to find the duplicates and remove them or ignore them."
   ]
  },
  {
   "cell_type": "code",
   "execution_count": 8,
   "metadata": {},
   "outputs": [
    {
     "data": {
      "text/html": [
       "<div>\n",
       "<style scoped>\n",
       "    .dataframe tbody tr th:only-of-type {\n",
       "        vertical-align: middle;\n",
       "    }\n",
       "\n",
       "    .dataframe tbody tr th {\n",
       "        vertical-align: top;\n",
       "    }\n",
       "\n",
       "    .dataframe thead th {\n",
       "        text-align: right;\n",
       "    }\n",
       "</style>\n",
       "<table border=\"1\" class=\"dataframe\">\n",
       "  <thead>\n",
       "    <tr style=\"text-align: right;\">\n",
       "      <th></th>\n",
       "      <th>transactionId</th>\n",
       "      <th>custId</th>\n",
       "      <th>transactionDate</th>\n",
       "      <th>productSold</th>\n",
       "      <th>unitsSold</th>\n",
       "    </tr>\n",
       "  </thead>\n",
       "  <tbody>\n",
       "    <tr>\n",
       "      <th>0</th>\n",
       "      <td>20110111-0023586</td>\n",
       "      <td>23586</td>\n",
       "      <td>2011-01-11</td>\n",
       "      <td>DETA800</td>\n",
       "      <td>176</td>\n",
       "    </tr>\n",
       "    <tr>\n",
       "      <th>1</th>\n",
       "      <td>20110111-0023586</td>\n",
       "      <td>23586</td>\n",
       "      <td>2011-01-11</td>\n",
       "      <td>SUPA101</td>\n",
       "      <td>193</td>\n",
       "    </tr>\n",
       "    <tr>\n",
       "      <th>2</th>\n",
       "      <td>20110111-0023586</td>\n",
       "      <td>23586</td>\n",
       "      <td>2011-01-11</td>\n",
       "      <td>SUPA102</td>\n",
       "      <td>157</td>\n",
       "    </tr>\n",
       "    <tr>\n",
       "      <th>3</th>\n",
       "      <td>20110113-0023524</td>\n",
       "      <td>23524</td>\n",
       "      <td>2011-01-13</td>\n",
       "      <td>PURA250</td>\n",
       "      <td>122</td>\n",
       "    </tr>\n",
       "    <tr>\n",
       "      <th>4</th>\n",
       "      <td>20110113-0023844</td>\n",
       "      <td>23844</td>\n",
       "      <td>2011-01-13</td>\n",
       "      <td>SUPA101</td>\n",
       "      <td>217</td>\n",
       "    </tr>\n",
       "    <tr>\n",
       "      <th>5</th>\n",
       "      <td>20110114-0023968</td>\n",
       "      <td>23968</td>\n",
       "      <td>2011-01-14</td>\n",
       "      <td>PURA100</td>\n",
       "      <td>284</td>\n",
       "    </tr>\n",
       "  </tbody>\n",
       "</table>\n",
       "</div>"
      ],
      "text/plain": [
       "      transactionId  custId transactionDate productSold  unitsSold\n",
       "0  20110111-0023586   23586      2011-01-11     DETA800        176\n",
       "1  20110111-0023586   23586      2011-01-11     SUPA101        193\n",
       "2  20110111-0023586   23586      2011-01-11     SUPA102        157\n",
       "3  20110113-0023524   23524      2011-01-13     PURA250        122\n",
       "4  20110113-0023844   23844      2011-01-13     SUPA101        217\n",
       "5  20110114-0023968   23968      2011-01-14     PURA100        284"
      ]
     },
     "execution_count": 8,
     "metadata": {},
     "output_type": "execute_result"
    }
   ],
   "source": [
    "# get working directory \n",
    "w=os.path.normpath(os.getcwd() + os.sep + os.pardir)\n",
    "\n",
    "\n",
    "transactions=pd.read_csv(w+'/Transaction.txt',sep='|') \n",
    "transactions.head(6)"
   ]
  },
  {
   "cell_type": "code",
   "execution_count": 24,
   "metadata": {},
   "outputs": [
    {
     "name": "stdout",
     "output_type": "stream",
     "text": [
      "0.321976787719955\n"
     ]
    },
    {
     "data": {
      "text/html": [
       "<div>\n",
       "<style scoped>\n",
       "    .dataframe tbody tr th:only-of-type {\n",
       "        vertical-align: middle;\n",
       "    }\n",
       "\n",
       "    .dataframe tbody tr th {\n",
       "        vertical-align: top;\n",
       "    }\n",
       "\n",
       "    .dataframe thead th {\n",
       "        text-align: right;\n",
       "    }\n",
       "</style>\n",
       "<table border=\"1\" class=\"dataframe\">\n",
       "  <thead>\n",
       "    <tr style=\"text-align: right;\">\n",
       "      <th></th>\n",
       "      <th>transactionId</th>\n",
       "      <th>custId</th>\n",
       "      <th>transactionDate</th>\n",
       "      <th>productSold</th>\n",
       "      <th>unitsSold</th>\n",
       "    </tr>\n",
       "  </thead>\n",
       "  <tbody>\n",
       "    <tr>\n",
       "      <th>9</th>\n",
       "      <td>20110119-0023582</td>\n",
       "      <td>23582</td>\n",
       "      <td>2011-01-19</td>\n",
       "      <td>SUPA101</td>\n",
       "      <td>173</td>\n",
       "    </tr>\n",
       "    <tr>\n",
       "      <th>10</th>\n",
       "      <td>20110119-0023582</td>\n",
       "      <td>23582</td>\n",
       "      <td>2011-01-19</td>\n",
       "      <td>SUPA101</td>\n",
       "      <td>173</td>\n",
       "    </tr>\n",
       "    <tr>\n",
       "      <th>37</th>\n",
       "      <td>20110206-0023586</td>\n",
       "      <td>23586</td>\n",
       "      <td>2011-02-06</td>\n",
       "      <td>SUPA101</td>\n",
       "      <td>205</td>\n",
       "    </tr>\n",
       "    <tr>\n",
       "      <th>130</th>\n",
       "      <td>20110315-0023429</td>\n",
       "      <td>23429</td>\n",
       "      <td>2011-03-15</td>\n",
       "      <td>DETA800</td>\n",
       "      <td>131</td>\n",
       "    </tr>\n",
       "    <tr>\n",
       "      <th>131</th>\n",
       "      <td>20110315-0023429</td>\n",
       "      <td>23429</td>\n",
       "      <td>2011-03-15</td>\n",
       "      <td>DETA800</td>\n",
       "      <td>131</td>\n",
       "    </tr>\n",
       "  </tbody>\n",
       "</table>\n",
       "</div>"
      ],
      "text/plain": [
       "        transactionId  custId transactionDate productSold  unitsSold\n",
       "9    20110119-0023582   23582      2011-01-19     SUPA101        173\n",
       "10   20110119-0023582   23582      2011-01-19     SUPA101        173\n",
       "37   20110206-0023586   23586      2011-02-06     SUPA101        205\n",
       "130  20110315-0023429   23429      2011-03-15     DETA800        131\n",
       "131  20110315-0023429   23429      2011-03-15     DETA800        131"
      ]
     },
     "execution_count": 24,
     "metadata": {},
     "output_type": "execute_result"
    }
   ],
   "source": [
    "# Find Duplicates\n",
    "\n",
    "print(len(transactions.loc[transactions.duplicated(),:])/len(transactions)*100)\n",
    "\n",
    "transactions.loc[transactions.duplicated(),:].head()\n"
   ]
  },
  {
   "cell_type": "code",
   "execution_count": 38,
   "metadata": {},
   "outputs": [
    {
     "data": {
      "text/html": [
       "<div>\n",
       "<style scoped>\n",
       "    .dataframe tbody tr th:only-of-type {\n",
       "        vertical-align: middle;\n",
       "    }\n",
       "\n",
       "    .dataframe tbody tr th {\n",
       "        vertical-align: top;\n",
       "    }\n",
       "\n",
       "    .dataframe thead th {\n",
       "        text-align: right;\n",
       "    }\n",
       "</style>\n",
       "<table border=\"1\" class=\"dataframe\">\n",
       "  <thead>\n",
       "    <tr style=\"text-align: right;\">\n",
       "      <th></th>\n",
       "      <th>transactionId</th>\n",
       "      <th>custId</th>\n",
       "      <th>transactionDate</th>\n",
       "      <th>productSold</th>\n",
       "      <th>unitsSold</th>\n",
       "    </tr>\n",
       "  </thead>\n",
       "  <tbody>\n",
       "    <tr>\n",
       "      <th>0</th>\n",
       "      <td>20110111-0023586</td>\n",
       "      <td>23586</td>\n",
       "      <td>2011-01-11</td>\n",
       "      <td>DETA800</td>\n",
       "      <td>176</td>\n",
       "    </tr>\n",
       "    <tr>\n",
       "      <th>1</th>\n",
       "      <td>20110111-0023586</td>\n",
       "      <td>23586</td>\n",
       "      <td>2011-01-11</td>\n",
       "      <td>SUPA101</td>\n",
       "      <td>193</td>\n",
       "    </tr>\n",
       "    <tr>\n",
       "      <th>2</th>\n",
       "      <td>20110111-0023586</td>\n",
       "      <td>23586</td>\n",
       "      <td>2011-01-11</td>\n",
       "      <td>SUPA102</td>\n",
       "      <td>157</td>\n",
       "    </tr>\n",
       "    <tr>\n",
       "      <th>3</th>\n",
       "      <td>20110113-0023524</td>\n",
       "      <td>23524</td>\n",
       "      <td>2011-01-13</td>\n",
       "      <td>PURA250</td>\n",
       "      <td>122</td>\n",
       "    </tr>\n",
       "    <tr>\n",
       "      <th>4</th>\n",
       "      <td>20110113-0023844</td>\n",
       "      <td>23844</td>\n",
       "      <td>2011-01-13</td>\n",
       "      <td>SUPA101</td>\n",
       "      <td>217</td>\n",
       "    </tr>\n",
       "  </tbody>\n",
       "</table>\n",
       "</div>"
      ],
      "text/plain": [
       "      transactionId  custId transactionDate productSold  unitsSold\n",
       "0  20110111-0023586   23586      2011-01-11     DETA800        176\n",
       "1  20110111-0023586   23586      2011-01-11     SUPA101        193\n",
       "2  20110111-0023586   23586      2011-01-11     SUPA102        157\n",
       "3  20110113-0023524   23524      2011-01-13     PURA250        122\n",
       "4  20110113-0023844   23844      2011-01-13     SUPA101        217"
      ]
     },
     "execution_count": 38,
     "metadata": {},
     "output_type": "execute_result"
    }
   ],
   "source": [
    "# Remove Duplicates:\n",
    "\n",
    "transactions.drop_duplicates().head()"
   ]
  },
  {
   "cell_type": "code",
   "execution_count": 72,
   "metadata": {},
   "outputs": [],
   "source": [
    "# Change Date string to date/time\n",
    "transactions['transactionDate']=pd.to_datetime(transactions['transactionDate'],\n",
    "                    infer_datetime_format=True).astype('str')\n",
    " \n",
    "# transactions['transactionDate'].dtype # verifying datatype is now date\n"
   ]
  },
  {
   "cell_type": "code",
   "execution_count": 46,
   "metadata": {},
   "outputs": [],
   "source": [
    "# Creating table as per requirement\n",
    "\n",
    "\n",
    "sql =\"\"\"\n",
    "CREATE TABLE Sales_Transactions(transactionId VARCHAR(255) NOT NULL, \n",
    "custId VARCHAR(255) NOT NULL,\n",
    "transactionDate DATE,productSold VARCHAR(20) NOT NULL, unitsSold int)\n",
    "\"\"\"\n",
    "\n",
    "mycursor.execute(sql)\n"
   ]
  },
  {
   "cell_type": "code",
   "execution_count": 74,
   "metadata": {},
   "outputs": [
    {
     "data": {
      "text/plain": [
       "[('cpu_purchase',),\n",
       " ('Sales_Transactions',),\n",
       " ('user_info',),\n",
       " ('user_o',),\n",
       " ('users_inf',),\n",
       " ('users_info',)]"
      ]
     },
     "execution_count": 74,
     "metadata": {},
     "output_type": "execute_result"
    }
   ],
   "source": [
    "# Show tables in current database:\n",
    "\n",
    "mycursor.execute(\"SHOW TABLES\")\n",
    "mycursor.fetchall()"
   ]
  },
  {
   "cell_type": "code",
   "execution_count": null,
   "metadata": {},
   "outputs": [],
   "source": [
    "mycursor.executemany(\"\"\"\n",
    "INSERT INTO Sales_Transactions(transactionId, custId, \n",
    "transactionDate, productSold,unitsSold) VALUES(%s,%s,%s,%s,%s)\"\"\",\n",
    "                     list(transactions.values))"
   ]
  },
  {
   "cell_type": "markdown",
   "metadata": {},
   "source": [
    "# We have a few option for finding duplicates using MySQL:\n",
    "\n",
    "+ Do we want to look by row for 1 column\n",
    "+ Are there multiple columns that we need to check for matching rows?\n",
    "\n",
    "This will depend on what you need to achieve and how the data are setup.\n",
    "\n",
    "\n",
    "For our data let's think about something:\n",
    "\n",
    "+ We may have `transactions ID's` but, *you can have multiple items sold per transaction*, if that is a real scenario for these data then you can use that an indicator of using more than 1 column for comparisons. (unless these made up data don't act like real data) "
   ]
  },
  {
   "cell_type": "code",
   "execution_count": 48,
   "metadata": {},
   "outputs": [
    {
     "data": {
      "text/html": [
       "<div>\n",
       "<style scoped>\n",
       "    .dataframe tbody tr th:only-of-type {\n",
       "        vertical-align: middle;\n",
       "    }\n",
       "\n",
       "    .dataframe tbody tr th {\n",
       "        vertical-align: top;\n",
       "    }\n",
       "\n",
       "    .dataframe thead th {\n",
       "        text-align: right;\n",
       "    }\n",
       "</style>\n",
       "<table border=\"1\" class=\"dataframe\">\n",
       "  <thead>\n",
       "    <tr style=\"text-align: right;\">\n",
       "      <th></th>\n",
       "      <th>transactionId</th>\n",
       "      <th>custId</th>\n",
       "      <th>transactionDate</th>\n",
       "      <th>productSold</th>\n",
       "      <th>unitsSold</th>\n",
       "    </tr>\n",
       "  </thead>\n",
       "  <tbody>\n",
       "    <tr>\n",
       "      <th>0</th>\n",
       "      <td>20110111-0023586</td>\n",
       "      <td>23586</td>\n",
       "      <td>2011-01-11</td>\n",
       "      <td>DETA800</td>\n",
       "      <td>176</td>\n",
       "    </tr>\n",
       "    <tr>\n",
       "      <th>1</th>\n",
       "      <td>20110111-0023586</td>\n",
       "      <td>23586</td>\n",
       "      <td>2011-01-11</td>\n",
       "      <td>SUPA101</td>\n",
       "      <td>193</td>\n",
       "    </tr>\n",
       "    <tr>\n",
       "      <th>2</th>\n",
       "      <td>20110111-0023586</td>\n",
       "      <td>23586</td>\n",
       "      <td>2011-01-11</td>\n",
       "      <td>SUPA102</td>\n",
       "      <td>157</td>\n",
       "    </tr>\n",
       "  </tbody>\n",
       "</table>\n",
       "</div>"
      ],
      "text/plain": [
       "      transactionId  custId transactionDate productSold  unitsSold\n",
       "0  20110111-0023586   23586      2011-01-11     DETA800        176\n",
       "1  20110111-0023586   23586      2011-01-11     SUPA101        193\n",
       "2  20110111-0023586   23586      2011-01-11     SUPA102        157"
      ]
     },
     "execution_count": 48,
     "metadata": {},
     "output_type": "execute_result"
    }
   ],
   "source": [
    "transactions[:3]"
   ]
  },
  {
   "cell_type": "markdown",
   "metadata": {},
   "source": [
    "Notice above that we have the same `transaction ID` for the 3 rows and same `customer ID` with 3 different items sold. \n",
    "\n",
    "+ This allows us to see that we can think about either column as a potential way to find duplicates using MySQL"
   ]
  },
  {
   "cell_type": "code",
   "execution_count": 84,
   "metadata": {},
   "outputs": [],
   "source": [
    "# mycursor.execute(\"select transactionId,\\\n",
    "# count(transactionId),custId,count(custId) from Sales_Transactions groupby\\\n",
    "# transactionId,custId having (count(tranactionId)>1) and (count(custId)>1)\")\n",
    "# mycursor.fetchall()"
   ]
  },
  {
   "cell_type": "code",
   "execution_count": 95,
   "metadata": {},
   "outputs": [
    {
     "name": "stdout",
     "output_type": "stream",
     "text": [
      "43\n"
     ]
    },
    {
     "data": {
      "text/plain": [
       "13355"
      ]
     },
     "execution_count": 95,
     "metadata": {},
     "output_type": "execute_result"
    }
   ],
   "source": [
    "\n",
    "# cpu_purchase\n",
    "\n",
    "# [('cpu_purchase',),\n",
    "#  ('Sales_Transactions',),\n",
    "#  ('user_info',),\n",
    "#  ('user_o',),\n",
    "#  ('users_inf',),\n",
    "#  ('users_info',)]\n",
    "\n",
    "\n",
    "# mycursor.execute('select * from Sales_Transactions')\n",
    "# mycursor.fetchall()\n",
    "\n",
    "print(len(transactions.loc[transactions.duplicated(),:]))\n",
    "# /len(transactions)*100)\n",
    "len(transactions)"
   ]
  },
  {
   "cell_type": "code",
   "execution_count": 93,
   "metadata": {},
   "outputs": [
    {
     "data": {
      "text/plain": [
       "4474"
      ]
     },
     "execution_count": 93,
     "metadata": {},
     "output_type": "execute_result"
    }
   ],
   "source": [
    "mycursor.execute(\"select transactionId,count(transactionId),custId,\\\n",
    "count(custId), from Sales_Transactions group by transactionId,\\\n",
    "custId having (count(transactionId)>1) and (count(custId)>1)\")\n",
    "len(mycursor.fetchall())"
   ]
  },
  {
   "cell_type": "code",
   "execution_count": 96,
   "metadata": {},
   "outputs": [
    {
     "data": {
      "text/plain": [
       "13355"
      ]
     },
     "execution_count": 96,
     "metadata": {},
     "output_type": "execute_result"
    }
   ],
   "source": [
    "mycursor.execute('select * from Sales_Transactions')\n",
    "len(mycursor.fetchall())"
   ]
  },
  {
   "cell_type": "markdown",
   "metadata": {},
   "source": [
    "# `Returns all data with numer of times duplicated`\n",
    "\n",
    "+ This means that you have 1 entry and frequency of occurances. It keeps every occurance.\n",
    "\n",
    "+ Not same as dataframe.duplicated() because that will either keep first or last occurance by your choice depending what you choose. So, if you have 4 occurances you will show first three or last three and df will keep one."
   ]
  },
  {
   "cell_type": "code",
   "execution_count": 148,
   "metadata": {},
   "outputs": [
    {
     "data": {
      "text/html": [
       "<div>\n",
       "<style scoped>\n",
       "    .dataframe tbody tr th:only-of-type {\n",
       "        vertical-align: middle;\n",
       "    }\n",
       "\n",
       "    .dataframe tbody tr th {\n",
       "        vertical-align: top;\n",
       "    }\n",
       "\n",
       "    .dataframe thead th {\n",
       "        text-align: right;\n",
       "    }\n",
       "</style>\n",
       "<table border=\"1\" class=\"dataframe\">\n",
       "  <thead>\n",
       "    <tr style=\"text-align: right;\">\n",
       "      <th></th>\n",
       "      <th>0</th>\n",
       "      <th>1</th>\n",
       "      <th>2</th>\n",
       "      <th>3</th>\n",
       "      <th>4</th>\n",
       "      <th>5</th>\n",
       "      <th>6</th>\n",
       "      <th>7</th>\n",
       "      <th>8</th>\n",
       "      <th>9</th>\n",
       "    </tr>\n",
       "  </thead>\n",
       "  <tbody>\n",
       "    <tr>\n",
       "      <th>0</th>\n",
       "      <td>20110119-0023582</td>\n",
       "      <td>23582</td>\n",
       "      <td>2011-01-19</td>\n",
       "      <td>SUPA101</td>\n",
       "      <td>173</td>\n",
       "      <td>3</td>\n",
       "      <td>3</td>\n",
       "      <td>3</td>\n",
       "      <td>3</td>\n",
       "      <td>3</td>\n",
       "    </tr>\n",
       "    <tr>\n",
       "      <th>1</th>\n",
       "      <td>20110206-0023586</td>\n",
       "      <td>23586</td>\n",
       "      <td>2011-02-06</td>\n",
       "      <td>SUPA101</td>\n",
       "      <td>205</td>\n",
       "      <td>2</td>\n",
       "      <td>2</td>\n",
       "      <td>2</td>\n",
       "      <td>2</td>\n",
       "      <td>2</td>\n",
       "    </tr>\n",
       "    <tr>\n",
       "      <th>2</th>\n",
       "      <td>20110315-0023429</td>\n",
       "      <td>23429</td>\n",
       "      <td>2011-03-15</td>\n",
       "      <td>DETA800</td>\n",
       "      <td>131</td>\n",
       "      <td>3</td>\n",
       "      <td>3</td>\n",
       "      <td>3</td>\n",
       "      <td>3</td>\n",
       "      <td>3</td>\n",
       "    </tr>\n",
       "    <tr>\n",
       "      <th>3</th>\n",
       "      <td>20110319-0023370</td>\n",
       "      <td>23370</td>\n",
       "      <td>2011-03-19</td>\n",
       "      <td>SUPA104</td>\n",
       "      <td>67</td>\n",
       "      <td>3</td>\n",
       "      <td>3</td>\n",
       "      <td>3</td>\n",
       "      <td>3</td>\n",
       "      <td>3</td>\n",
       "    </tr>\n",
       "    <tr>\n",
       "      <th>4</th>\n",
       "      <td>20110322-0024042</td>\n",
       "      <td>24042</td>\n",
       "      <td>2011-03-22</td>\n",
       "      <td>PURA250</td>\n",
       "      <td>39</td>\n",
       "      <td>3</td>\n",
       "      <td>3</td>\n",
       "      <td>3</td>\n",
       "      <td>3</td>\n",
       "      <td>3</td>\n",
       "    </tr>\n",
       "  </tbody>\n",
       "</table>\n",
       "</div>"
      ],
      "text/plain": [
       "                  0      1           2        3    4  5  6  7  8  9\n",
       "0  20110119-0023582  23582  2011-01-19  SUPA101  173  3  3  3  3  3\n",
       "1  20110206-0023586  23586  2011-02-06  SUPA101  205  2  2  2  2  2\n",
       "2  20110315-0023429  23429  2011-03-15  DETA800  131  3  3  3  3  3\n",
       "3  20110319-0023370  23370  2011-03-19  SUPA104   67  3  3  3  3  3\n",
       "4  20110322-0024042  24042  2011-03-22  PURA250   39  3  3  3  3  3"
      ]
     },
     "execution_count": 148,
     "metadata": {},
     "output_type": "execute_result"
    }
   ],
   "source": [
    "mycursor.execute(\"select transactionId,custId,transactionDate,productSold,unitsSold,\\\n",
    "count(transactionId),count(custId),count(transactionDate), \\\n",
    "count(productSold),count(unitsSold) from \\\n",
    "Sales_Transactions group by transactionId,custId, \\\n",
    "transactionDate,productSold,unitsSold having \\\n",
    "count(transactionId)>1 and count(custId)>1 and count(transactionDate)>1 and \\\n",
    "count(productSold)>1 and count(unitsSold)>1\")\n",
    "xc=mycursor.fetchall()\n",
    "pd.DataFrame(xc).head()"
   ]
  },
  {
   "cell_type": "code",
   "execution_count": 153,
   "metadata": {},
   "outputs": [
    {
     "name": "stdout",
     "output_type": "stream",
     "text": [
      "Number of entries duplicated w/ first occurence:  73\n",
      "returns number of rows:  30\n"
     ]
    }
   ],
   "source": [
    "# returns all rows with duplicates including the first occurance.\n",
    "print('Number of entries duplicated w/ first occurence: ',sum(pd.DataFrame(xc)[6]))\n",
    "print('returns number of rows: ',len(pd.DataFrame(xc)))\n",
    "\n"
   ]
  },
  {
   "cell_type": "code",
   "execution_count": 167,
   "metadata": {},
   "outputs": [
    {
     "data": {
      "text/plain": [
       "43"
      ]
     },
     "execution_count": 167,
     "metadata": {},
     "output_type": "execute_result"
    }
   ],
   "source": [
    "# count number rows duplicated including first occurence - df rows\n",
    "# returns 43 which is same as df.duplicated giving you df with first occurence subtracted\n",
    "\n",
    "sum(pd.DataFrame(xc)[6])-len(pd.DataFrame(xc)[6])"
   ]
  },
  {
   "cell_type": "code",
   "execution_count": 168,
   "metadata": {},
   "outputs": [
    {
     "name": "stdout",
     "output_type": "stream",
     "text": [
      "number of dups NOT including first occurence: 43\n",
      "rows of entries, same as if you counted first occurence from DF: 30\n"
     ]
    }
   ],
   "source": [
    "# Verify what is going on again a little differently\n",
    "\n",
    "tryop=transactions[transactions.duplicated(subset=['custId','transactionId',\n",
    "                        'transactionDate','unitsSold','productSold'])]\n",
    "\n",
    "print('number of dups NOT including first occurence:',\n",
    "sum(tryop.groupby(['transactionId','custId']).count()['unitsSold']))\n",
    "\n",
    "print('rows of entries, same as if you counted first occurence from DF:',\n",
    "len(tryop.groupby(['transactionId','custId']).count()['unitsSold']))"
   ]
  },
  {
   "cell_type": "markdown",
   "metadata": {},
   "source": [
    "# `Returns Data w/o duplicates as query`\n",
    "\n",
    "+ keeps first occurence"
   ]
  },
  {
   "cell_type": "code",
   "execution_count": 124,
   "metadata": {},
   "outputs": [
    {
     "data": {
      "text/plain": [
       "13312"
      ]
     },
     "execution_count": 124,
     "metadata": {},
     "output_type": "execute_result"
    }
   ],
   "source": [
    "mycursor.execute(\"select transactionId,custId,transactionDate,productSold,unitsSold,\\\n",
    "count(transactionId),count(custId),count(transactionDate), \\\n",
    "count(productSold),count(unitsSold) from \\\n",
    "Sales_Transactions group by transactionId,custId, \\\n",
    "transactionDate,productSold,unitsSold \")\n",
    "len(mycursor.fetchall())"
   ]
  },
  {
   "cell_type": "code",
   "execution_count": 127,
   "metadata": {},
   "outputs": [
    {
     "data": {
      "text/plain": [
       "13312"
      ]
     },
     "execution_count": 127,
     "metadata": {},
     "output_type": "execute_result"
    }
   ],
   "source": [
    "# keeps first occurence:\n",
    "\n",
    "len(transactions.drop_duplicates())"
   ]
  },
  {
   "cell_type": "code",
   "execution_count": 126,
   "metadata": {},
   "outputs": [
    {
     "data": {
      "text/plain": [
       "13355"
      ]
     },
     "execution_count": 126,
     "metadata": {},
     "output_type": "execute_result"
    }
   ],
   "source": [
    "# original data length:\n",
    "len(transactions)"
   ]
  },
  {
   "cell_type": "code",
   "execution_count": null,
   "metadata": {},
   "outputs": [],
   "source": []
  },
  {
   "cell_type": "code",
   "execution_count": 143,
   "metadata": {},
   "outputs": [
    {
     "data": {
      "text/plain": [
       "43"
      ]
     },
     "execution_count": 143,
     "metadata": {},
     "output_type": "execute_result"
    }
   ],
   "source": [
    "len(transactions[transactions.duplicated(subset=['custId','transactionId',\n",
    "                        'transactionDate','unitsSold','productSold'])])"
   ]
  },
  {
   "cell_type": "code",
   "execution_count": 166,
   "metadata": {},
   "outputs": [
    {
     "name": "stdout",
     "output_type": "stream",
     "text": [
      "number of dups NOT including first occurence: 43\n",
      "rows of entries, same as if you counted first occurence from DF: 30\n"
     ]
    }
   ],
   "source": [
    "tryop=transactions[transactions.duplicated(subset=['custId','transactionId',\n",
    "                        'transactionDate','unitsSold','productSold'])]\n",
    "\n",
    "print('number of dups NOT including first occurence:',\n",
    "sum(tryop.groupby(['transactionId','custId']).count()['unitsSold']))\n",
    "\n",
    "print('rows of entries, same as if you counted first occurence from DF:',\n",
    "len(tryop.groupby(['transactionId','custId']).count()['unitsSold']))"
   ]
  },
  {
   "cell_type": "code",
   "execution_count": null,
   "metadata": {},
   "outputs": [],
   "source": []
  },
  {
   "cell_type": "code",
   "execution_count": null,
   "metadata": {},
   "outputs": [],
   "source": []
  },
  {
   "cell_type": "code",
   "execution_count": null,
   "metadata": {},
   "outputs": [],
   "source": []
  },
  {
   "cell_type": "code",
   "execution_count": null,
   "metadata": {},
   "outputs": [],
   "source": []
  },
  {
   "cell_type": "markdown",
   "metadata": {},
   "source": [
    "# <font color=red>Like</font>, Share &\n",
    "\n",
    "# <font color=red>SUB</font>scribe"
   ]
  },
  {
   "cell_type": "markdown",
   "metadata": {},
   "source": [
    "# `Citations & Help:`\n",
    "\n",
    "# ◔̯◔\n",
    "\n",
    "https://www.mysqltutorial.org/mysql-delete-duplicate-rows/\n",
    "\n",
    "https://www.tutorialspoint.com/How-to-insert-date-object-in-MySQL-using-Python\n",
    "\n",
    "https://phoenixnap.com/kb/mysql-remove-duplicate-rows"
   ]
  }
 ],
 "metadata": {
  "kernelspec": {
   "display_name": "Python 3",
   "language": "python",
   "name": "python3"
  },
  "language_info": {
   "codemirror_mode": {
    "name": "ipython",
    "version": 3
   },
   "file_extension": ".py",
   "mimetype": "text/x-python",
   "name": "python",
   "nbconvert_exporter": "python",
   "pygments_lexer": "ipython3",
   "version": "3.7.3"
  }
 },
 "nbformat": 4,
 "nbformat_minor": 4
}
