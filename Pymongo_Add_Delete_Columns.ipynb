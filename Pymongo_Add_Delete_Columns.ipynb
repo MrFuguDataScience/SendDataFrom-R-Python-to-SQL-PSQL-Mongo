{
 "cells": [
  {
   "cell_type": "markdown",
   "metadata": {},
   "source": [
    "# `PyMongo: Add & Delete Columns (Python-MongoDB)`\n",
    "\n",
    "# <font color=red>Mr Fugu Data Science</font>\n",
    "\n",
    "# (◕‿◕✿)\n",
    "\n",
    "<font size=5>**`Help Support The Channel: Patreon @mrfugudatasci`**</font>\n",
    "    \n",
    "**`Or Consider One Time Donation: Buy Me A Coffee @mrfugudatasci`**"
   ]
  },
  {
   "cell_type": "code",
   "execution_count": 1,
   "metadata": {},
   "outputs": [],
   "source": [
    "# Install PyMongo, if you don't have already...\n",
    "\n",
    "import pymongo as pym      # Interface with Python <--> MongoDB \n",
    "import pandas as pd        # Create Dataframe\n",
    "import pprint as pp        # readibility for our data\n",
    "from bson.code import Code # Help with Map-Reduce"
   ]
  },
  {
   "cell_type": "markdown",
   "metadata": {},
   "source": [
    "# `Side Note:`\n",
    "\n",
    "**If you are using Homebrew (Mac) and you don't run mongoDB in the background**\n",
    "\n",
    "+ Then you will need to turn on your connection before we get started. \n",
    "    + In the terminal I do: **`mongod`** then we can use python to move forward\n",
    "    \n",
    "+ If you have your own server or crendtials you will need to use them.\n",
    "\n",
    "Otherwise, just for practice do something similar to what I do below"
   ]
  },
  {
   "cell_type": "code",
   "execution_count": 106,
   "metadata": {},
   "outputs": [],
   "source": [
    "# Making a Connection to MongoClient\n",
    "client = pym.MongoClient('mongodb://localhost:27017/')\n",
    "\n",
    "# CREATING A DATABASE:\n",
    "db = client[\"berkeley\"]\n",
    "\n",
    "# CREATING A COLLECTION (*AKA* TABLE):\n",
    "candidate_user_info= db[\"recruiter_clients\"]"
   ]
  },
  {
   "cell_type": "markdown",
   "metadata": {},
   "source": [
    "# `We will do 2 different ways of creating (columns) using`\n",
    "\n",
    "+ `Update`\n",
    "+ `Addfields`"
   ]
  },
  {
   "cell_type": "code",
   "execution_count": 107,
   "metadata": {},
   "outputs": [
    {
     "data": {
      "text/plain": [
       "{'_id': ObjectId('5eb5cc5b47c72ccce7539c1b'),\n",
       " 'candidate': {'first_name': 'Margaret',\n",
       "  'last_name': 'Mcdonald',\n",
       "  'skills': ['skLearn', 'Java', 'R', 'SQL', 'Spark', 'C++'],\n",
       "  'state': 'AL',\n",
       "  'specialty': 'Database',\n",
       "  'experience': 'Junior',\n",
       "  'relocation': 'no'}}"
      ]
     },
     "execution_count": 107,
     "metadata": {},
     "output_type": "execute_result"
    }
   ],
   "source": [
    "candidate_user_info.find_one({})"
   ]
  },
  {
   "cell_type": "markdown",
   "metadata": {},
   "source": [
    "# 1. ) `Add Columns with Update`\n",
    "\n",
    "+ First, `update` then add `$set` operator for the column \"field\" you want"
   ]
  },
  {
   "cell_type": "code",
   "execution_count": 108,
   "metadata": {},
   "outputs": [
    {
     "name": "stderr",
     "output_type": "stream",
     "text": [
      "/Users/zatoichi59/anaconda3/lib/python3.7/site-packages/ipykernel_launcher.py:2: DeprecationWarning: update is deprecated. Use replace_one, update_one or update_many instead.\n",
      "  \n"
     ]
    },
    {
     "data": {
      "text/plain": [
       "{'n': 1, 'nModified': 1, 'ok': 1.0, 'updatedExisting': True}"
      ]
     },
     "execution_count": 108,
     "metadata": {},
     "output_type": "execute_result"
    }
   ],
   "source": [
    "candidate_user_info.update(\n",
    "    {},{'$set': {\"DOB\": \"\"}},False,True)"
   ]
  },
  {
   "cell_type": "code",
   "execution_count": 109,
   "metadata": {},
   "outputs": [
    {
     "data": {
      "text/plain": [
       "{'_id': ObjectId('5eb5cc5b47c72ccce7539c1b'),\n",
       " 'candidate': {'first_name': 'Margaret',\n",
       "  'last_name': 'Mcdonald',\n",
       "  'skills': ['skLearn', 'Java', 'R', 'SQL', 'Spark', 'C++'],\n",
       "  'state': 'AL',\n",
       "  'specialty': 'Database',\n",
       "  'experience': 'Junior',\n",
       "  'relocation': 'no'},\n",
       " 'DOB': ''}"
      ]
     },
     "execution_count": 109,
     "metadata": {},
     "output_type": "execute_result"
    }
   ],
   "source": [
    "candidate_user_info.find_one()"
   ]
  },
  {
   "cell_type": "code",
   "execution_count": 110,
   "metadata": {},
   "outputs": [
    {
     "data": {
      "text/plain": [
       "<pymongo.results.UpdateResult at 0x11c254b88>"
      ]
     },
     "execution_count": 110,
     "metadata": {},
     "output_type": "execute_result"
    }
   ],
   "source": [
    "# Now we can update a few peoples birthdays:\n",
    "\n",
    "from bson.objectid import ObjectId\n",
    "\n",
    "candidate_user_info.update_one({\"_id\":ObjectId('5eb5cc5b47c72ccce7539c1b')},\n",
    "{'$set': {'DOB': '01/31/1998'}})"
   ]
  },
  {
   "cell_type": "code",
   "execution_count": 114,
   "metadata": {},
   "outputs": [
    {
     "data": {
      "text/plain": [
       "{'_id': ObjectId('5eb5cc5b47c72ccce7539c1b'),\n",
       " 'candidate': {'first_name': 'Margaret',\n",
       "  'last_name': 'Mcdonald',\n",
       "  'skills': ['skLearn', 'Java', 'R', 'SQL', 'Spark', 'C++'],\n",
       "  'state': 'AL',\n",
       "  'specialty': 'Database',\n",
       "  'experience': 'Junior',\n",
       "  'relocation': 'no'},\n",
       " 'DOB': '01/31/1998'}"
      ]
     },
     "execution_count": 114,
     "metadata": {},
     "output_type": "execute_result"
    }
   ],
   "source": [
    "candidate_user_info.find_one({\"_id\":ObjectId('5eb5cc5b47c72ccce7539c1b')})"
   ]
  },
  {
   "cell_type": "code",
   "execution_count": 117,
   "metadata": {},
   "outputs": [
    {
     "data": {
      "text/html": [
       "<div>\n",
       "<style scoped>\n",
       "    .dataframe tbody tr th:only-of-type {\n",
       "        vertical-align: middle;\n",
       "    }\n",
       "\n",
       "    .dataframe tbody tr th {\n",
       "        vertical-align: top;\n",
       "    }\n",
       "\n",
       "    .dataframe thead th {\n",
       "        text-align: right;\n",
       "    }\n",
       "</style>\n",
       "<table border=\"1\" class=\"dataframe\">\n",
       "  <thead>\n",
       "    <tr style=\"text-align: right;\">\n",
       "      <th></th>\n",
       "      <th>_id</th>\n",
       "      <th>candidate</th>\n",
       "      <th>DOB</th>\n",
       "      <th>lastModified</th>\n",
       "    </tr>\n",
       "  </thead>\n",
       "  <tbody>\n",
       "    <tr>\n",
       "      <th>0</th>\n",
       "      <td>5eb5cc5b47c72ccce7539c1b</td>\n",
       "      <td>{'first_name': 'Margaret', 'last_name': 'Mcdon...</td>\n",
       "      <td>01/31/1998</td>\n",
       "      <td>NaT</td>\n",
       "    </tr>\n",
       "    <tr>\n",
       "      <th>1</th>\n",
       "      <td>5eb5cc5b47c72ccce7539c1c</td>\n",
       "      <td>{'first_name': 'Michael', 'last_name': 'Carter...</td>\n",
       "      <td>NaN</td>\n",
       "      <td>NaT</td>\n",
       "    </tr>\n",
       "    <tr>\n",
       "      <th>2</th>\n",
       "      <td>5eb5cc5b47c72ccce7539c1d</td>\n",
       "      <td>{'first_name': 'Brenda', 'last_name': 'Tyler',...</td>\n",
       "      <td>NaN</td>\n",
       "      <td>NaT</td>\n",
       "    </tr>\n",
       "    <tr>\n",
       "      <th>3</th>\n",
       "      <td>5eb5cc5b47c72ccce7539c1e</td>\n",
       "      <td>{'first_name': 'Joseph', 'last_name': 'King', ...</td>\n",
       "      <td>NaN</td>\n",
       "      <td>NaT</td>\n",
       "    </tr>\n",
       "    <tr>\n",
       "      <th>4</th>\n",
       "      <td>5eb5cc5b47c72ccce7539c1f</td>\n",
       "      <td>{'first_name': 'Laura', 'last_name': 'Webb', '...</td>\n",
       "      <td>NaN</td>\n",
       "      <td>NaT</td>\n",
       "    </tr>\n",
       "  </tbody>\n",
       "</table>\n",
       "</div>"
      ],
      "text/plain": [
       "                        _id  \\\n",
       "0  5eb5cc5b47c72ccce7539c1b   \n",
       "1  5eb5cc5b47c72ccce7539c1c   \n",
       "2  5eb5cc5b47c72ccce7539c1d   \n",
       "3  5eb5cc5b47c72ccce7539c1e   \n",
       "4  5eb5cc5b47c72ccce7539c1f   \n",
       "\n",
       "                                           candidate         DOB lastModified  \n",
       "0  {'first_name': 'Margaret', 'last_name': 'Mcdon...  01/31/1998          NaT  \n",
       "1  {'first_name': 'Michael', 'last_name': 'Carter...         NaN          NaT  \n",
       "2  {'first_name': 'Brenda', 'last_name': 'Tyler',...         NaN          NaT  \n",
       "3  {'first_name': 'Joseph', 'last_name': 'King', ...         NaN          NaT  \n",
       "4  {'first_name': 'Laura', 'last_name': 'Webb', '...         NaN          NaT  "
      ]
     },
     "execution_count": 117,
     "metadata": {},
     "output_type": "execute_result"
    }
   ],
   "source": [
    "q=candidate_user_info.find({})\n",
    "\n",
    "pd.DataFrame.from_dict(q).head()"
   ]
  },
  {
   "cell_type": "markdown",
   "metadata": {},
   "source": [
    "# `What About Adding Nested Fields/Columns?`\n",
    "\n",
    "From Above we didn't achieve what we set out to do. In our case, we didn't pay attention and added the date of birth to the outside of the nested json (bson) object.\n",
    "\n",
    "+ While it is attached to the specific person, and can be used. Let's try to get it inside instead as an option."
   ]
  },
  {
   "cell_type": "code",
   "execution_count": 126,
   "metadata": {},
   "outputs": [
    {
     "name": "stderr",
     "output_type": "stream",
     "text": [
      "/Users/zatoichi59/anaconda3/lib/python3.7/site-packages/ipykernel_launcher.py:2: DeprecationWarning: update is deprecated. Use replace_one, update_one or update_many instead.\n",
      "  \n"
     ]
    },
    {
     "data": {
      "text/plain": [
       "{'n': 1, 'nModified': 1, 'ok': 1.0, 'updatedExisting': True}"
      ]
     },
     "execution_count": 126,
     "metadata": {},
     "output_type": "execute_result"
    }
   ],
   "source": [
    "candidate_user_info.update(\n",
    "    {},{'$set': {\"candidate.DOB\": \"\"}},False,True)"
   ]
  },
  {
   "cell_type": "code",
   "execution_count": 140,
   "metadata": {},
   "outputs": [
    {
     "data": {
      "text/plain": [
       "{'_id': ObjectId('5eb5cc5b47c72ccce7539c1b'),\n",
       " 'candidate': {'first_name': 'Margaret',\n",
       "  'last_name': 'Mcdonald',\n",
       "  'skills': ['skLearn', 'Java', 'R', 'SQL', 'Spark', 'C++'],\n",
       "  'state': 'AL',\n",
       "  'specialty': 'Database',\n",
       "  'experience': 'Junior',\n",
       "  'relocation': 'no',\n",
       "  'DOB': '01/31/1998'},\n",
       " 'DOB': '01/31/1998'}"
      ]
     },
     "execution_count": 140,
     "metadata": {},
     "output_type": "execute_result"
    }
   ],
   "source": [
    "candidate_user_info.find_one()"
   ]
  },
  {
   "cell_type": "code",
   "execution_count": 134,
   "metadata": {},
   "outputs": [
    {
     "data": {
      "text/plain": [
       "<pymongo.results.UpdateResult at 0x11c1d2488>"
      ]
     },
     "execution_count": 134,
     "metadata": {},
     "output_type": "execute_result"
    }
   ],
   "source": [
    "# Now let's update the DOB for the person, but inside nested part instead:\n",
    "\n",
    "candidate_user_info.update_one({\"_id\":ObjectId('5eb5cc5b47c72ccce7539c1b')},\n",
    "{'$set': {'candidate.DOB': '01/31/1998'}})"
   ]
  },
  {
   "cell_type": "markdown",
   "metadata": {},
   "source": [
    "# `We are adding the DOB, in the nested part`\n",
    "\n",
    "+ we still have the messed up column to remove which will be done soon."
   ]
  },
  {
   "cell_type": "code",
   "execution_count": 139,
   "metadata": {},
   "outputs": [
    {
     "data": {
      "text/plain": [
       "{'_id': ObjectId('5eb5cc5b47c72ccce7539c1b'),\n",
       " 'candidate': {'first_name': 'Margaret',\n",
       "  'last_name': 'Mcdonald',\n",
       "  'skills': ['skLearn', 'Java', 'R', 'SQL', 'Spark', 'C++'],\n",
       "  'state': 'AL',\n",
       "  'specialty': 'Database',\n",
       "  'experience': 'Junior',\n",
       "  'relocation': 'no',\n",
       "  'DOB': '01/31/1998'},\n",
       " 'DOB': '01/31/1998'}"
      ]
     },
     "execution_count": 139,
     "metadata": {},
     "output_type": "execute_result"
    }
   ],
   "source": [
    "\n",
    "candidate_user_info.find_one({\"_id\":ObjectId('5eb5cc5b47c72ccce7539c1b')})"
   ]
  },
  {
   "cell_type": "markdown",
   "metadata": {},
   "source": [
    "# 2. )  `Using aggregate with $addfields:`\n",
    "\n",
    "+ This will not alter the data permanately, it will do a query and output the data based on what it can use with built in memory. `you can look into $out`\n",
    "    + This will save to a collection though! so using the `$out` is an exception, refer to documentation for clarification.\n",
    "\n",
    "`db.Your_collection_name.aggregate(\n",
    "[\n",
    "        {            '$addFields': {\n",
    "               \"DOB\": \"$Unknown\"\n",
    "           }\n",
    "        }\n",
    "    ])`\n",
    "\n",
    "\n",
    "**But, for some reason this query doesn't work with PyMongo Not sure what I am doing wrong, it doesn't work in mongo shell**\n",
    "\n",
    "\n",
    "`----------------------`"
   ]
  },
  {
   "cell_type": "markdown",
   "metadata": {},
   "source": [
    "# `Update Specific Fields: For a specific person`"
   ]
  },
  {
   "cell_type": "code",
   "execution_count": 71,
   "metadata": {},
   "outputs": [
    {
     "data": {
      "text/plain": [
       "{'_id': ObjectId('5eb4a812e41ac928d7d6d068'),\n",
       " '': 2,\n",
       " 'first_name': 'Brenda',\n",
       " 'last_name': 'Tyler',\n",
       " 'skills': \"['Spark']\",\n",
       " 'state': 'UT',\n",
       " 'specialty_exper': \"'({'specialty': 'Statistics'}\",\n",
       " 'relocation': \"{'experience': 'Mid'})'\",\n",
       " 'field7': 'no',\n",
       " 'preferred_name': 'BB',\n",
       " 'retired_status': 'NA'}"
      ]
     },
     "execution_count": 71,
     "metadata": {},
     "output_type": "execute_result"
    }
   ],
   "source": [
    "candidate_user_info.find_one()"
   ]
  },
  {
   "cell_type": "code",
   "execution_count": 36,
   "metadata": {},
   "outputs": [
    {
     "data": {
      "text/plain": [
       "<pymongo.results.UpdateResult at 0x11aa849c8>"
      ]
     },
     "execution_count": 36,
     "metadata": {},
     "output_type": "execute_result"
    }
   ],
   "source": [
    "from bson.objectid import ObjectId\n",
    "\n",
    "candidate_user_info.update_one({\"_id\":ObjectId('5eb4a812e41ac928d7d6d068')},\n",
    "{'$set': {'preferred_name': 'BB'}})"
   ]
  },
  {
   "cell_type": "code",
   "execution_count": 37,
   "metadata": {},
   "outputs": [
    {
     "data": {
      "text/plain": [
       "{'_id': ObjectId('5eb4a812e41ac928d7d6d068'),\n",
       " '': 2,\n",
       " 'first_name': 'Brenda',\n",
       " 'last_name': 'Tyler',\n",
       " 'skills': \"['Spark']\",\n",
       " 'state': 'UT',\n",
       " 'specialty_exper': \"'({'specialty': 'Statistics'}\",\n",
       " 'relocation': \"{'experience': 'Mid'})'\",\n",
       " 'field7': 'no',\n",
       " 'preferred_name': 'BB',\n",
       " 'retired_status': 'NA'}"
      ]
     },
     "execution_count": 37,
     "metadata": {},
     "output_type": "execute_result"
    }
   ],
   "source": [
    "candidate_user_info.find_one({\"_id\":ObjectId('5eb4a812e41ac928d7d6d068')})"
   ]
  },
  {
   "cell_type": "code",
   "execution_count": 38,
   "metadata": {},
   "outputs": [
    {
     "data": {
      "text/plain": [
       "<pymongo.results.UpdateResult at 0x11aa878c8>"
      ]
     },
     "execution_count": 38,
     "metadata": {},
     "output_type": "execute_result"
    }
   ],
   "source": [
    "candidate_user_info.update_one({\"_id\":ObjectId('5eb4a812e41ac928d7d6d068')},\n",
    "{'$set': {'retired_status': 'NA'}})"
   ]
  },
  {
   "cell_type": "code",
   "execution_count": 40,
   "metadata": {},
   "outputs": [
    {
     "data": {
      "text/plain": [
       "{'_id': ObjectId('5eb4a812e41ac928d7d6d068'),\n",
       " '': 2,\n",
       " 'first_name': 'Brenda',\n",
       " 'last_name': 'Tyler',\n",
       " 'skills': \"['Spark']\",\n",
       " 'state': 'UT',\n",
       " 'specialty_exper': \"'({'specialty': 'Statistics'}\",\n",
       " 'relocation': \"{'experience': 'Mid'})'\",\n",
       " 'field7': 'no',\n",
       " 'preferred_name': 'BB',\n",
       " 'retired_status': 'NA'}"
      ]
     },
     "execution_count": 40,
     "metadata": {},
     "output_type": "execute_result"
    }
   ],
   "source": [
    "candidate_user_info.find_one({\"_id\":ObjectId('5eb4a812e41ac928d7d6d068')})"
   ]
  },
  {
   "cell_type": "markdown",
   "metadata": {},
   "source": [
    "# 3. ) `Delete Column:`\n",
    "\n",
    "+ We can delete a field from a particular entry (row) which would remove the specific field/column.\n",
    "    + In this case we can use `update` followed by `$unset`\n",
    "\n",
    "+ Or delete the whole column/fields for all entries for 1 or more documents.\n",
    "    + If we are trying to just remove this: ``"
   ]
  },
  {
   "cell_type": "code",
   "execution_count": 142,
   "metadata": {},
   "outputs": [
    {
     "name": "stderr",
     "output_type": "stream",
     "text": [
      "/Users/zatoichi59/anaconda3/lib/python3.7/site-packages/ipykernel_launcher.py:1: DeprecationWarning: update is deprecated. Use replace_one, update_one or update_many instead.\n",
      "  \"\"\"Entry point for launching an IPython kernel.\n"
     ]
    },
    {
     "data": {
      "text/plain": [
       "{'n': 1, 'nModified': 1, 'ok': 1.0, 'updatedExisting': True}"
      ]
     },
     "execution_count": 142,
     "metadata": {},
     "output_type": "execute_result"
    }
   ],
   "source": [
    "candidate_user_info.update({}, {'$unset': {'DOB':1}}, False, True)"
   ]
  },
  {
   "cell_type": "code",
   "execution_count": 143,
   "metadata": {},
   "outputs": [
    {
     "data": {
      "text/plain": [
       "{'_id': ObjectId('5eb5cc5b47c72ccce7539c1b'),\n",
       " 'candidate': {'first_name': 'Margaret',\n",
       "  'last_name': 'Mcdonald',\n",
       "  'skills': ['skLearn', 'Java', 'R', 'SQL', 'Spark', 'C++'],\n",
       "  'state': 'AL',\n",
       "  'specialty': 'Database',\n",
       "  'experience': 'Junior',\n",
       "  'relocation': 'no',\n",
       "  'DOB': '01/31/1998'}}"
      ]
     },
     "execution_count": 143,
     "metadata": {},
     "output_type": "execute_result"
    }
   ],
   "source": [
    "candidate_user_info.find_one()"
   ]
  },
  {
   "cell_type": "markdown",
   "metadata": {},
   "source": [
    "`-----------------------------`\n",
    "\n",
    "# Further Thoughts:\n",
    "\n",
    "`+++++++++++++++++++++++++`\n",
    "\n",
    "\n",
    "# `Push & addtoset`\n",
    "\n",
    "+ `$push`: appends a value to an array\n",
    "  \n",
    "+ `$addtoset`: will add elements to your list\n",
    "    + look into `$each` which may be neccessary as well\n",
    "    \n",
    "# `Upsert=True`\n",
    "\n",
    "+ There are considerations when using this:\n",
    "\n",
    "We can have issues with updates and inserts giving us duplicates. Since, MongoDB doesn't have `transactions` in mind like RDMS we have to be creative and thoughtful. \n",
    "+ Having a `unique index` will help if you want to do `upsert=True`\n",
    "+ Also, errors can persist if you are using dot notation for your index and trying to apply `upsert=True`"
   ]
  },
  {
   "cell_type": "markdown",
   "metadata": {},
   "source": [
    "# <font color=red>Like</font>, Share &\n",
    "\n",
    "# <font color=red>SUB</font>scribe\n",
    "\n",
    "\n",
    "<font size=5>**`Help Support The Channel: Patreon @mrfugudatasci`**</font>\n",
    "    \n",
    "**`Or Consider One Time Donation: Buy Me A Coffee @mrfugudatasci`**"
   ]
  },
  {
   "cell_type": "markdown",
   "metadata": {},
   "source": [
    "# `Citations & Help:`\n",
    "\n",
    "# ◔̯◔\n",
    "\n",
    "https://www.tutorialspoint.com/how-to-add-a-column-in-mongodb-collection\n",
    "\n",
    "https://docs.mongodb.com/manual/reference/operator/aggregation/addFields/\n",
    "\n",
    "http://burnignorance.com/mongodb-tips-and-tricks/add-and-remove-fieldscolumns-from-mongo-database-collectiontable/\n",
    "\n",
    "http://cis.csuohio.edu/~sschung/cis612/MongoDB%20Update%20with%20upsert.pdf\n",
    "\n",
    "http://www.kamsky.org/stupid-tricks-with-mongodb/category/aggregation\n",
    "\n",
    "https://docs.mongodb.com/manual/reference/operator/update/set/\n",
    "\n",
    "https://docs.mongodb.com/manual/reference/operator/aggregation/addFields/\n",
    "\n",
    "https://stackoverflow.com/questions/7714216/add-new-field-to-every-document-in-a-mongodb-collection\n",
    "\n",
    "https://stackoverflow.com/questions/13710770/how-to-update-values-using-pymongo\n",
    "\n",
    "https://www.tutorialspoint.com/mongodb-addtoset-to-add-a-deep-nested-array-of-object\n",
    "\n",
    "https://stackoverflow.com/questions/6851933/how-to-remove-a-field-completely-from-a-mongodb-document"
   ]
  }
 ],
 "metadata": {
  "kernelspec": {
   "display_name": "Python 3",
   "language": "python",
   "name": "python3"
  },
  "language_info": {
   "codemirror_mode": {
    "name": "ipython",
    "version": 3
   },
   "file_extension": ".py",
   "mimetype": "text/x-python",
   "name": "python",
   "nbconvert_exporter": "python",
   "pygments_lexer": "ipython3",
   "version": "3.7.3"
  }
 },
 "nbformat": 4,
 "nbformat_minor": 4
}
