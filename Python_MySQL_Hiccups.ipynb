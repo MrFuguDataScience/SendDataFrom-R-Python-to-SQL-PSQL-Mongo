{
 "cells": [
  {
   "cell_type": "markdown",
   "metadata": {},
   "source": [
    "# `Python to MySQL: Hiccups you will encounter`\n",
    "\n",
    "# <font color=red>Mr Fugu Data Science</font>\n",
    "\n",
    "# (◕‿◕✿)\n",
    "\n",
    "# `Outcome:`\n",
    "\n",
    "+ `Problems with Date-Time`\n",
    "+ `Handling NaN`\n",
    "+ `Schema Considerations`\n",
    "+ `Dot Notation Naming`"
   ]
  },
  {
   "cell_type": "code",
   "execution_count": 18,
   "metadata": {},
   "outputs": [],
   "source": [
    "import pandas as pd # dataframe stuff\n",
    "# import json # \n",
    "from collections import defaultdict # dictionary where values are a list\n",
    "import numpy as np # formatting data with Nan\n",
    "from datetime import date\n",
    "import datetime\n",
    "\n",
    "# import collections # This is used to help find duplicate values later"
   ]
  },
  {
   "cell_type": "markdown",
   "metadata": {},
   "source": [
    "# `Install: mysql.connector`\n",
    "\n",
    "`conda install -c anaconda mysql-connector-python`\n",
    "\n",
    "`pip install mysql-connector`\n",
    "\n",
    "or `pip3 install mysql-connector`"
   ]
  },
  {
   "cell_type": "code",
   "execution_count": 3,
   "metadata": {},
   "outputs": [],
   "source": [
    "# Setup MySQL for us to send data and create a new DB\n",
    "\n",
    "import mysql.connector as mysql # establish connection to mysql \n",
    "\n",
    "from mysql.connector import MySQLConnection # using Class for function call\n",
    "\n",
    "import pandas as pd  # Create Dataframe\n",
    "\n",
    "from python_to_myql_config import read_db_config # calling config files, (you need to make this) \n",
    "# stored user credentials I have, or use the block of code below\n",
    "\n",
    "import csv"
   ]
  },
  {
   "cell_type": "markdown",
   "metadata": {},
   "source": [
    "# `Turn on mysql server for this to work: in Mac terminal`\n",
    "\n",
    "\n",
    "**`mysql.server start`**"
   ]
  },
  {
   "cell_type": "markdown",
   "metadata": {},
   "source": [
    "# `If you want user` <font color=red>credential</font> `setup` <font color=red>go here</font>`:`\n",
    "\n",
    "https://github.com/MrFuguDataScience/SendDataFrom-R-Python-to-SQL-PSQL-Mongo/blob/master/Python_to_mysql_configFiles.ipynb\n",
    "\n",
    "**IF YOU DO NOT HAVE CREDENTIALS OR IT DOESN'T MATTER TO YOU TRY THIS:**\n",
    "\n",
    "`\n",
    "cnx = mysql.connector.connect(user='bambam', password='password',\n",
    "                              host='127.0.0.1',\n",
    "                              database='cowboy_doodah')\n",
    "cnx.close()\n",
    "`\n",
    "\n",
    "+ Remember: replace, user, password and database with your information!"
   ]
  },
  {
   "cell_type": "code",
   "execution_count": 5,
   "metadata": {},
   "outputs": [],
   "source": [
    "db_config = read_db_config() # user credentials are mine, you will need to change this line\n",
    "\n",
    "conn = MySQLConnection(**read_db_config()) # establish connection\n",
    "\n",
    "mycursor = conn.cursor() # cursor, allows us to do queries,send/retrieve data"
   ]
  },
  {
   "cell_type": "code",
   "execution_count": 6,
   "metadata": {},
   "outputs": [
    {
     "data": {
      "text/plain": [
       "[('project_practice',)]"
      ]
     },
     "execution_count": 6,
     "metadata": {},
     "output_type": "execute_result"
    }
   ],
   "source": [
    "# Show What DB we are using:\n",
    "\n",
    "# show what database we are currently using:\n",
    "mycursor.execute(\"SELECT DATABASE()\")\n",
    "mycursor.fetchall()"
   ]
  },
  {
   "cell_type": "code",
   "execution_count": 7,
   "metadata": {},
   "outputs": [
    {
     "data": {
      "text/plain": [
       "[('secure_file_priv', '')]"
      ]
     },
     "execution_count": 7,
     "metadata": {},
     "output_type": "execute_result"
    }
   ],
   "source": [
    "# Turn this on, if you have issues sending data\n",
    "\n",
    "mycursor.execute('SET GLOBAL local_infile=1')\n",
    "\n",
    "# This checks if you have issues with exporting later due to security:\n",
    "mycursor.execute('SHOW VARIABLES LIKE \"secure_file_priv\"')\n",
    "mycursor.fetchall()"
   ]
  },
  {
   "cell_type": "code",
   "execution_count": null,
   "metadata": {},
   "outputs": [],
   "source": [
    "# Check Db Using:\n",
    "\n"
   ]
  },
  {
   "cell_type": "code",
   "execution_count": null,
   "metadata": {},
   "outputs": [],
   "source": [
    "# Check Tables:\n",
    "\n",
    "mycursor.execute(\"SHOW TABLES\")\n",
    "mycursor.fetchall()"
   ]
  },
  {
   "cell_type": "code",
   "execution_count": null,
   "metadata": {},
   "outputs": [],
   "source": []
  },
  {
   "cell_type": "markdown",
   "metadata": {},
   "source": [
    "# `Ex.1) Evaluating Dates/Time Formatting MySQL`"
   ]
  },
  {
   "cell_type": "code",
   "execution_count": null,
   "metadata": {},
   "outputs": [],
   "source": []
  },
  {
   "cell_type": "code",
   "execution_count": 8,
   "metadata": {},
   "outputs": [
    {
     "data": {
      "text/html": [
       "<div>\n",
       "<style scoped>\n",
       "    .dataframe tbody tr th:only-of-type {\n",
       "        vertical-align: middle;\n",
       "    }\n",
       "\n",
       "    .dataframe tbody tr th {\n",
       "        vertical-align: top;\n",
       "    }\n",
       "\n",
       "    .dataframe thead th {\n",
       "        text-align: right;\n",
       "    }\n",
       "</style>\n",
       "<table border=\"1\" class=\"dataframe\">\n",
       "  <thead>\n",
       "    <tr style=\"text-align: right;\">\n",
       "      <th></th>\n",
       "      <th>createDate_date</th>\n",
       "      <th>dateScanned_date</th>\n",
       "      <th>finishedDate_date</th>\n",
       "      <th>modifyDate_date</th>\n",
       "      <th>pointsAwardedDate_date</th>\n",
       "      <th>purchaseDate_date</th>\n",
       "    </tr>\n",
       "  </thead>\n",
       "  <tbody>\n",
       "    <tr>\n",
       "      <th>0</th>\n",
       "      <td>1609687531000</td>\n",
       "      <td>1609687531000</td>\n",
       "      <td>1.609688e+12</td>\n",
       "      <td>1609687536000</td>\n",
       "      <td>1.609688e+12</td>\n",
       "      <td>1.609632e+12</td>\n",
       "    </tr>\n",
       "    <tr>\n",
       "      <th>1</th>\n",
       "      <td>1609687483000</td>\n",
       "      <td>1609687483000</td>\n",
       "      <td>1.609687e+12</td>\n",
       "      <td>1609687488000</td>\n",
       "      <td>1.609687e+12</td>\n",
       "      <td>1.609601e+12</td>\n",
       "    </tr>\n",
       "    <tr>\n",
       "      <th>2</th>\n",
       "      <td>1609687483000</td>\n",
       "      <td>1609687483000</td>\n",
       "      <td>1.609687e+12</td>\n",
       "      <td>1609687488000</td>\n",
       "      <td>1.609687e+12</td>\n",
       "      <td>1.609601e+12</td>\n",
       "    </tr>\n",
       "    <tr>\n",
       "      <th>3</th>\n",
       "      <td>1609687537000</td>\n",
       "      <td>1609687537000</td>\n",
       "      <td>NaN</td>\n",
       "      <td>1609687542000</td>\n",
       "      <td>NaN</td>\n",
       "      <td>1.609632e+12</td>\n",
       "    </tr>\n",
       "    <tr>\n",
       "      <th>4</th>\n",
       "      <td>1609687534000</td>\n",
       "      <td>1609687534000</td>\n",
       "      <td>1.609688e+12</td>\n",
       "      <td>1609687539000</td>\n",
       "      <td>1.609688e+12</td>\n",
       "      <td>1.609632e+12</td>\n",
       "    </tr>\n",
       "  </tbody>\n",
       "</table>\n",
       "</div>"
      ],
      "text/plain": [
       "   createDate_date  dateScanned_date  finishedDate_date  modifyDate_date  \\\n",
       "0    1609687531000     1609687531000       1.609688e+12    1609687536000   \n",
       "1    1609687483000     1609687483000       1.609687e+12    1609687488000   \n",
       "2    1609687483000     1609687483000       1.609687e+12    1609687488000   \n",
       "3    1609687537000     1609687537000                NaN    1609687542000   \n",
       "4    1609687534000     1609687534000       1.609688e+12    1609687539000   \n",
       "\n",
       "   pointsAwardedDate_date  purchaseDate_date  \n",
       "0            1.609688e+12       1.609632e+12  \n",
       "1            1.609687e+12       1.609601e+12  \n",
       "2            1.609687e+12       1.609601e+12  \n",
       "3                     NaN       1.609632e+12  \n",
       "4            1.609688e+12       1.609632e+12  "
      ]
     },
     "execution_count": 8,
     "metadata": {},
     "output_type": "execute_result"
    }
   ],
   "source": [
    "# Date-Time csv:\n",
    "dates_df=pd.read_csv('date_time_ex.csv')\n",
    "dates_df.head()"
   ]
  },
  {
   "cell_type": "code",
   "execution_count": 10,
   "metadata": {},
   "outputs": [
    {
     "data": {
      "text/html": [
       "<div>\n",
       "<style scoped>\n",
       "    .dataframe tbody tr th:only-of-type {\n",
       "        vertical-align: middle;\n",
       "    }\n",
       "\n",
       "    .dataframe tbody tr th {\n",
       "        vertical-align: top;\n",
       "    }\n",
       "\n",
       "    .dataframe thead th {\n",
       "        text-align: right;\n",
       "    }\n",
       "</style>\n",
       "<table border=\"1\" class=\"dataframe\">\n",
       "  <thead>\n",
       "    <tr style=\"text-align: right;\">\n",
       "      <th></th>\n",
       "      <th>createDate_date</th>\n",
       "      <th>dateScanned_date</th>\n",
       "      <th>finishedDate_date</th>\n",
       "      <th>modifyDate_date</th>\n",
       "      <th>pointsAwardedDate_date</th>\n",
       "      <th>purchaseDate_date</th>\n",
       "    </tr>\n",
       "  </thead>\n",
       "  <tbody>\n",
       "    <tr>\n",
       "      <th>0</th>\n",
       "      <td>2021-01-03</td>\n",
       "      <td>2021-01-03</td>\n",
       "      <td>2021-01-03</td>\n",
       "      <td>2021-01-03</td>\n",
       "      <td>2021-01-03</td>\n",
       "      <td>2021-01-03</td>\n",
       "    </tr>\n",
       "    <tr>\n",
       "      <th>1</th>\n",
       "      <td>2021-01-03</td>\n",
       "      <td>2021-01-03</td>\n",
       "      <td>2021-01-03</td>\n",
       "      <td>2021-01-03</td>\n",
       "      <td>2021-01-03</td>\n",
       "      <td>2021-01-02</td>\n",
       "    </tr>\n",
       "    <tr>\n",
       "      <th>2</th>\n",
       "      <td>2021-01-03</td>\n",
       "      <td>2021-01-03</td>\n",
       "      <td>2021-01-03</td>\n",
       "      <td>2021-01-03</td>\n",
       "      <td>2021-01-03</td>\n",
       "      <td>2021-01-02</td>\n",
       "    </tr>\n",
       "    <tr>\n",
       "      <th>3</th>\n",
       "      <td>2021-01-03</td>\n",
       "      <td>2021-01-03</td>\n",
       "      <td>NaN</td>\n",
       "      <td>2021-01-03</td>\n",
       "      <td>NaN</td>\n",
       "      <td>2021-01-03</td>\n",
       "    </tr>\n",
       "    <tr>\n",
       "      <th>4</th>\n",
       "      <td>2021-01-03</td>\n",
       "      <td>2021-01-03</td>\n",
       "      <td>2021-01-03</td>\n",
       "      <td>2021-01-03</td>\n",
       "      <td>2021-01-03</td>\n",
       "      <td>2021-01-03</td>\n",
       "    </tr>\n",
       "  </tbody>\n",
       "</table>\n",
       "</div>"
      ],
      "text/plain": [
       "  createDate_date dateScanned_date finishedDate_date modifyDate_date  \\\n",
       "0      2021-01-03       2021-01-03        2021-01-03      2021-01-03   \n",
       "1      2021-01-03       2021-01-03        2021-01-03      2021-01-03   \n",
       "2      2021-01-03       2021-01-03        2021-01-03      2021-01-03   \n",
       "3      2021-01-03       2021-01-03               NaN      2021-01-03   \n",
       "4      2021-01-03       2021-01-03        2021-01-03      2021-01-03   \n",
       "\n",
       "  pointsAwardedDate_date purchaseDate_date  \n",
       "0             2021-01-03        2021-01-03  \n",
       "1             2021-01-03        2021-01-02  \n",
       "2             2021-01-03        2021-01-02  \n",
       "3                    NaN        2021-01-03  \n",
       "4             2021-01-03        2021-01-03  "
      ]
     },
     "execution_count": 10,
     "metadata": {},
     "output_type": "execute_result"
    }
   ],
   "source": [
    "# Creating proper format for dates\n",
    "divide_by_thous_dts=dates_df.div(1000, axis=0)\n",
    "\n",
    "# doing this across all date columns\n",
    "convert_to_dts=divide_by_thous_dts.apply(pd.to_datetime, errors='coerce',utc=True,unit='s')\n",
    "\n",
    "# If you need date with time unblock the , %H:%M:%S\")) portion of code and it will work BUT, CHANGE SCHEMA \n",
    "# to DATETIME instead of DATE!\n",
    "\n",
    "pp_new=convert_to_dts.apply(lambda x: x.dt.strftime(\"%Y-%m-%d\"))\n",
    "                                        \n",
    "#                                        , %H:%M:%S\"))\n",
    "pp_new.head()"
   ]
  },
  {
   "cell_type": "markdown",
   "metadata": {},
   "source": [
    "# `Here is a potential issue:` \n",
    "+ **`['finishedDate_date','dateScanned_date','modifyDate_date']`** you have `NaN` for dates \n",
    "and empty string is not working\n",
    "+ *let's investigate all the dates first to make sure that this is not a fluke and needs further testing*\n",
    "\n",
    "\n",
    "`What is the problem with NaN values for MySQL import/Insert?`"
   ]
  },
  {
   "cell_type": "code",
   "execution_count": 11,
   "metadata": {
    "scrolled": true
   },
   "outputs": [
    {
     "data": {
      "text/plain": [
       "createDate_date              0\n",
       "dateScanned_date             0\n",
       "finishedDate_date         1411\n",
       "modifyDate_date              0\n",
       "pointsAwardedDate_date    1301\n",
       "purchaseDate_date          458\n",
       "dtype: int64"
      ]
     },
     "execution_count": 11,
     "metadata": {},
     "output_type": "execute_result"
    }
   ],
   "source": [
    "pp_new.isnull().sum()"
   ]
  },
  {
   "cell_type": "code",
   "execution_count": null,
   "metadata": {},
   "outputs": [],
   "source": [
    "# Create Schema:\n",
    "\n",
    "sql_01 =\"\"\"\n",
    "CREATE TABLE date_table_Ex01(createDate_date DATE,\n",
    "dateScanned_date DATE, finishedDate_date DATE, modifyDate_date DATE,\n",
    "pointsAwardedDate_date DATE, purchaseDate_date DATE)\"\"\"\n",
    "\n",
    "# or DATETIME depending on your needs, but change formatting above first"
   ]
  },
  {
   "cell_type": "markdown",
   "metadata": {},
   "source": [
    "# `Send Data to MySQL from Python `"
   ]
  },
  {
   "cell_type": "code",
   "execution_count": null,
   "metadata": {},
   "outputs": [],
   "source": [
    "# Creating table as per requirement, sql is the schema from above we created\n",
    "\n",
    "mycursor.execute(sql_01)"
   ]
  },
  {
   "cell_type": "code",
   "execution_count": null,
   "metadata": {},
   "outputs": [],
   "source": [
    "mycursor.executemany(\"\"\"\n",
    "INSERT INTO date_table_Ex01(createDate_date,\n",
    "dateScanned_date, finishedDate_date, modifyDate_date,\n",
    "pointsAwardedDate_date, purchaseDate_date ) VALUES(%s,%s,%s,%s,%s,%s)\n",
    "\"\"\",list(????.values))\n",
    "\n",
    "\n"
   ]
  },
  {
   "cell_type": "markdown",
   "metadata": {},
   "source": [
    "# `Now What do we do?`"
   ]
  },
  {
   "cell_type": "code",
   "execution_count": null,
   "metadata": {},
   "outputs": [],
   "source": [
    "# Send Data: W/O Converting Dates Correctly (2 ways to do this)\n",
    "\n",
    "# 1) \n",
    "\"\"\"\n",
    "We have the option to grab data from one consistant column and use that as our source to work from to fill\n",
    "NaN values. In this case I was considering using ['createDate_date']\n",
    "\"\"\"\n",
    "df.Temp_Rating.fillna(df.Farheit, inplace=True)\n",
    "# del df['Farheit']\n",
    "df.columns \n",
    "# = 'File heat Observations'.split()\n"
   ]
  },
  {
   "cell_type": "code",
   "execution_count": null,
   "metadata": {},
   "outputs": [],
   "source": [
    "# 2)\n",
    "\n",
    "\"\"\"\n",
    "This was a dummy date so MySQL would take import and you can query this to find your Nan values easy\n",
    "if you want I would think about replacing with CreateDate for consistency. This will depend on what you are\n",
    "needing as an end result or personal preference.\n",
    "\"\"\"\n",
    "new_date_nan_changed=pp_new.replace(np.nan,'1900-01-01',regex=True)\n",
    "new_date_nan_changed.head()"
   ]
  },
  {
   "cell_type": "code",
   "execution_count": 17,
   "metadata": {},
   "outputs": [],
   "source": [
    "# Send Dates: With Correct formatting for schema:\n",
    "\n",
    "# Creating table as per requirement, sql is the schema from above we created\n",
    "\n",
    "mycursor.execute(sql)"
   ]
  },
  {
   "cell_type": "code",
   "execution_count": null,
   "metadata": {},
   "outputs": [],
   "source": [
    "mycursor.executemany(\"\"\"\n",
    "INSERT INTO date_table_Ex01(createDate_date,\n",
    "dateScanned_date, finishedDate_date, modifyDate_date,\n",
    "pointsAwardedDate_date, purchaseDate_date ) VALUES(%s,%s,%s,%s,%s,%s)\n",
    "\"\"\",list(????.values))"
   ]
  },
  {
   "cell_type": "code",
   "execution_count": null,
   "metadata": {},
   "outputs": [],
   "source": [
    "mycursor.execute(\"SELECT * from date_table_Ex01\")\n",
    "\n",
    "# Get all results and store them \n",
    "mm=mycursor.fetchall()\n",
    "\n",
    "# Retain columns names, and store as DF:\n",
    "pd.DataFrame(mm,columns=mycursor.column_names)"
   ]
  },
  {
   "cell_type": "markdown",
   "metadata": {},
   "source": [
    "# `Ex.2) Other Errors That May Occur:`\n",
    "\n",
    "+ `Dot Notation Naming`\n",
    "+ `_id.oid`\n",
    "+ `NaN in general`"
   ]
  },
  {
   "cell_type": "code",
   "execution_count": 12,
   "metadata": {},
   "outputs": [
    {
     "data": {
      "text/html": [
       "<div>\n",
       "<style scoped>\n",
       "    .dataframe tbody tr th:only-of-type {\n",
       "        vertical-align: middle;\n",
       "    }\n",
       "\n",
       "    .dataframe tbody tr th {\n",
       "        vertical-align: top;\n",
       "    }\n",
       "\n",
       "    .dataframe thead th {\n",
       "        text-align: right;\n",
       "    }\n",
       "</style>\n",
       "<table border=\"1\" class=\"dataframe\">\n",
       "  <thead>\n",
       "    <tr style=\"text-align: right;\">\n",
       "      <th></th>\n",
       "      <th>_id.oid</th>\n",
       "      <th>bonusPointsEarned</th>\n",
       "      <th>rewardsReceiptItemList_pointsEarned</th>\n",
       "      <th>needsFetchReview</th>\n",
       "      <th>competitiveProduct</th>\n",
       "      <th>deleted</th>\n",
       "      <th>userFlaggedQuantity</th>\n",
       "    </tr>\n",
       "  </thead>\n",
       "  <tbody>\n",
       "    <tr>\n",
       "      <th>0</th>\n",
       "      <td>5ff1e1eb0a720f0523000575</td>\n",
       "      <td>500.0</td>\n",
       "      <td>NaN</td>\n",
       "      <td>False</td>\n",
       "      <td>NaN</td>\n",
       "      <td>NaN</td>\n",
       "      <td>5.0</td>\n",
       "    </tr>\n",
       "    <tr>\n",
       "      <th>1</th>\n",
       "      <td>5ff1e1bb0a720f052300056b</td>\n",
       "      <td>150.0</td>\n",
       "      <td>NaN</td>\n",
       "      <td>NaN</td>\n",
       "      <td>NaN</td>\n",
       "      <td>NaN</td>\n",
       "      <td>NaN</td>\n",
       "    </tr>\n",
       "    <tr>\n",
       "      <th>2</th>\n",
       "      <td>5ff1e1bb0a720f052300056b</td>\n",
       "      <td>150.0</td>\n",
       "      <td>NaN</td>\n",
       "      <td>True</td>\n",
       "      <td>NaN</td>\n",
       "      <td>NaN</td>\n",
       "      <td>1.0</td>\n",
       "    </tr>\n",
       "    <tr>\n",
       "      <th>3</th>\n",
       "      <td>5ff1e1f10a720f052300057a</td>\n",
       "      <td>5.0</td>\n",
       "      <td>NaN</td>\n",
       "      <td>False</td>\n",
       "      <td>NaN</td>\n",
       "      <td>NaN</td>\n",
       "      <td>3.0</td>\n",
       "    </tr>\n",
       "    <tr>\n",
       "      <th>4</th>\n",
       "      <td>5ff1e1ee0a7214ada100056f</td>\n",
       "      <td>5.0</td>\n",
       "      <td>NaN</td>\n",
       "      <td>False</td>\n",
       "      <td>NaN</td>\n",
       "      <td>NaN</td>\n",
       "      <td>4.0</td>\n",
       "    </tr>\n",
       "  </tbody>\n",
       "</table>\n",
       "</div>"
      ],
      "text/plain": [
       "                    _id.oid  bonusPointsEarned  \\\n",
       "0  5ff1e1eb0a720f0523000575              500.0   \n",
       "1  5ff1e1bb0a720f052300056b              150.0   \n",
       "2  5ff1e1bb0a720f052300056b              150.0   \n",
       "3  5ff1e1f10a720f052300057a                5.0   \n",
       "4  5ff1e1ee0a7214ada100056f                5.0   \n",
       "\n",
       "   rewardsReceiptItemList_pointsEarned needsFetchReview competitiveProduct  \\\n",
       "0                                  NaN            False                NaN   \n",
       "1                                  NaN              NaN                NaN   \n",
       "2                                  NaN             True                NaN   \n",
       "3                                  NaN            False                NaN   \n",
       "4                                  NaN            False                NaN   \n",
       "\n",
       "  deleted  userFlaggedQuantity  \n",
       "0     NaN                  5.0  \n",
       "1     NaN                  NaN  \n",
       "2     NaN                  1.0  \n",
       "3     NaN                  3.0  \n",
       "4     NaN                  4.0  "
      ]
     },
     "execution_count": 12,
     "metadata": {},
     "output_type": "execute_result"
    }
   ],
   "source": [
    "# Data subset csv\n",
    "df_parse=pd.read_csv('mysql_play_data.csv')\n",
    "\n",
    "# Subset for ease of the example and schema later\n",
    "ex_df_subset=df_parse.loc[:,['_id.oid','bonusPointsEarned','rewardsReceiptItemList_pointsEarned',\n",
    "\"needsFetchReview\",'competitiveProduct','deleted','userFlaggedQuantity']]\n",
    "\n",
    "ex_df_subset.head()"
   ]
  },
  {
   "cell_type": "code",
   "execution_count": 13,
   "metadata": {},
   "outputs": [
    {
     "data": {
      "text/plain": [
       "_id.oid                                   0\n",
       "bonusPointsEarned                      1401\n",
       "rewardsReceiptItemList_pointsEarned    6454\n",
       "needsFetchReview                       6568\n",
       "competitiveProduct                     6736\n",
       "deleted                                7372\n",
       "userFlaggedQuantity                    7082\n",
       "dtype: int64"
      ]
     },
     "execution_count": 13,
     "metadata": {},
     "output_type": "execute_result"
    }
   ],
   "source": [
    "# This is allowing me to take a note of our empty rows by column and assess how to handle later\n",
    "ex_df_subset.isnull().sum()"
   ]
  },
  {
   "cell_type": "code",
   "execution_count": 14,
   "metadata": {},
   "outputs": [
    {
     "data": {
      "text/plain": [
       "_id.oid                                 object\n",
       "bonusPointsEarned                      float64\n",
       "rewardsReceiptItemList_pointsEarned    float64\n",
       "needsFetchReview                        object\n",
       "competitiveProduct                      object\n",
       "deleted                                 object\n",
       "userFlaggedQuantity                    float64\n",
       "dtype: object"
      ]
     },
     "execution_count": 14,
     "metadata": {},
     "output_type": "execute_result"
    }
   ],
   "source": [
    "# Preparing myself for the schema, thinking about our variables\n",
    "ex_df_subset.dtypes"
   ]
  },
  {
   "cell_type": "code",
   "execution_count": 16,
   "metadata": {},
   "outputs": [
    {
     "data": {
      "text/plain": [
       "Index(['_id.oid', 'bonus.PointsEarned', 'rewards.ReceiptItemList_pointsEarned',\n",
       "       'needs.FetchReview', 'competitive.Product', 'deleted',\n",
       "       'user.FlaggedQuantity'],\n",
       "      dtype='object')"
      ]
     },
     "execution_count": 16,
     "metadata": {},
     "output_type": "execute_result"
    }
   ],
   "source": [
    "# Articifically change column names so we can get the point for the example!\n",
    "ex_df_subset.columns=['_id.oid', 'bonus.PointsEarned', 'rewards.ReceiptItemList_pointsEarned',\n",
    "       'needs.FetchReview', 'competitive.Product', 'deleted',\n",
    "       'user.FlaggedQuantity']\n",
    "\n",
    "ex_df_subset.columns"
   ]
  },
  {
   "cell_type": "markdown",
   "metadata": {},
   "source": [
    "# `Let's see what happens if you try to send this to MySQL`\n",
    "\n",
    "+ First create a schema and table to send these data\n",
    "+ Investigate the error we get if any"
   ]
  },
  {
   "cell_type": "code",
   "execution_count": null,
   "metadata": {},
   "outputs": [],
   "source": [
    "# Create Schema and Table:\n",
    "\n",
    "sql_02a =\"\"\"\n",
    "CREATE TABLE dot_notation_table( _id.oid VARCHAR(255), bonus.PointsEarned FLOAT, \n",
    "rewards.ReceiptItemList_pointsEarned FLOAT, needs.FetchReview BOOL , \n",
    "competitive.Product TEXT, deleted BOOL, user.FlaggedQuantity INT )\"\"\"\n"
   ]
  },
  {
   "cell_type": "code",
   "execution_count": null,
   "metadata": {},
   "outputs": [],
   "source": [
    "# Send this off to MySQL\n",
    "\n",
    "# Creating table as per requirement, sql is the schema from above we created\n",
    "\n",
    "mycursor.execute(sql_02a)"
   ]
  },
  {
   "cell_type": "code",
   "execution_count": null,
   "metadata": {},
   "outputs": [],
   "source": [
    "mycursor.executemany(\"\"\"\n",
    "INSERT INTO dot_notation_table(_id.oid, bonus.PointsEarned, \n",
    "rewards.ReceiptItemList_pointsEarned, needs.FetchReview, \n",
    "competitive.Product, deleted, user.FlaggedQuantity ) VALUES(%s,%s,%s,%s,%s,%s,%s)\n",
    "\"\"\",list(????.values))"
   ]
  },
  {
   "cell_type": "markdown",
   "metadata": {},
   "source": [
    "# `2A.) Dot Notation from JSON data, explain & fix formatting`"
   ]
  },
  {
   "cell_type": "code",
   "execution_count": null,
   "metadata": {},
   "outputs": [],
   "source": [
    "# This is MySQL problem for importing so I changed dot notation of columns\n",
    "new_subset_play.columns=new_subset_play.columns.str.replace('.','_')\n"
   ]
  },
  {
   "cell_type": "code",
   "execution_count": null,
   "metadata": {},
   "outputs": [],
   "source": [
    "sql_02a =\"\"\"\n",
    "CREATE TABLE dot_notation_table( _id_oid VARCHAR(255), bonus_PointsEarned FLOAT, \n",
    "rewards_ReceiptItemList_pointsEarned FLOAT,\n",
    "needs_FetchReview BOOL, competitive_Product TEXT, deleted BOOL, user_FlaggedQuantity INT )\"\"\""
   ]
  },
  {
   "cell_type": "code",
   "execution_count": null,
   "metadata": {},
   "outputs": [],
   "source": [
    "# Creating table as per requirement, sql is the schema from above we created\n",
    "\n",
    "mycursor.execute(sql_02a)"
   ]
  },
  {
   "cell_type": "code",
   "execution_count": null,
   "metadata": {},
   "outputs": [],
   "source": [
    "mycursor.executemany(\"\"\"\n",
    "INSERT INTO dot_notation_table(_id_oid, bonus_PointsEarned, \n",
    "rewards_ReceiptItemList_pointsEarned, needs_FetchReview, \n",
    "competitive_Product, deleted, user_FlaggedQuantity ) VALUES(%s,%s,%s,%s,%s,%s,%s)\n",
    "\"\"\",list(????.values))"
   ]
  },
  {
   "cell_type": "code",
   "execution_count": null,
   "metadata": {},
   "outputs": [],
   "source": [
    "mycursor.execute(\"SELECT * from dot_notation_table\")\n",
    "\n",
    "# Get all results and store them \n",
    "mm=mycursor.fetchall()\n",
    "\n",
    "# Retain columns names, and store as DF:\n",
    "pd.DataFrame(mm,columns=mycursor.column_names)"
   ]
  },
  {
   "cell_type": "markdown",
   "metadata": {},
   "source": [
    "# `2B.) _id.OID issues explained`\n",
    "\n",
    "+ Why is this an issue anyway?"
   ]
  },
  {
   "cell_type": "code",
   "execution_count": null,
   "metadata": {},
   "outputs": [],
   "source": [
    "# OID issue and convert:\n",
    "\n",
    "# Changed this name _id.oid because of convention naming systems for DB and I don't want confusion/errors\n",
    "new_subset_play=new_subset_play.rename(columns={new_subset_play.columns[7]:\"OID\"})"
   ]
  },
  {
   "cell_type": "code",
   "execution_count": null,
   "metadata": {},
   "outputs": [],
   "source": [
    "sql_02b =\"\"\"\n",
    "CREATE TABLE dot_notation_table_oidFix( OID VARCHAR(255), bonus_PointsEarned FLOAT, \n",
    "rewards_ReceiptItemList_pointsEarned FLOAT,\n",
    "needs_FetchReview BOOL, competitive_Product TEXT, deleted BOOL, user_FlaggedQuantity INT )\"\"\""
   ]
  },
  {
   "cell_type": "code",
   "execution_count": null,
   "metadata": {},
   "outputs": [],
   "source": [
    "# Creating table as per requirement, sql is the schema from above we created\n",
    "\n",
    "mycursor.execute(sql_02b)"
   ]
  },
  {
   "cell_type": "code",
   "execution_count": null,
   "metadata": {},
   "outputs": [],
   "source": [
    "mycursor.executemany(\"\"\"\n",
    "INSERT INTO dot_notation_table( OID, bonus_PointsEarned, \n",
    "rewards_ReceiptItemList_pointsEarned, needs_FetchReview, \n",
    "competitive_Product, deleted, user_FlaggedQuantity ) VALUES(%s,%s,%s,%s,%s,%s,%s)\n",
    "\"\"\",list(????.values))"
   ]
  },
  {
   "cell_type": "code",
   "execution_count": null,
   "metadata": {},
   "outputs": [],
   "source": [
    "mycursor.execute(\"SELECT * from dot_notation_table\")\n",
    "\n",
    "# Get all results and store them \n",
    "mm=mycursor.fetchall()\n",
    "\n",
    "# Retain columns names, and store as DF:\n",
    "pd.DataFrame(mm,columns=mycursor.column_names)"
   ]
  },
  {
   "cell_type": "code",
   "execution_count": null,
   "metadata": {},
   "outputs": [],
   "source": []
  },
  {
   "cell_type": "code",
   "execution_count": null,
   "metadata": {},
   "outputs": [],
   "source": []
  },
  {
   "cell_type": "code",
   "execution_count": null,
   "metadata": {},
   "outputs": [],
   "source": []
  },
  {
   "cell_type": "code",
   "execution_count": null,
   "metadata": {},
   "outputs": [],
   "source": []
  },
  {
   "cell_type": "code",
   "execution_count": null,
   "metadata": {},
   "outputs": [],
   "source": []
  },
  {
   "cell_type": "markdown",
   "metadata": {},
   "source": [
    "# Like, Share & <font color=red>SUB</font>scribe"
   ]
  },
  {
   "cell_type": "markdown",
   "metadata": {},
   "source": [
    "# `Citations & Help:`\n",
    "\n",
    "# ◔̯◔\n",
    "\n",
    "https://stackoverflow.com/questions/24942538/sql-wont-insert-null-values-with-bulk-insert\n",
    "\n",
    "https://stackoverflow.com/questions/45756557/inserting-nan-value-into-mysql-database\n",
    "\n",
    "https://www.tutorialspoint.com/can-mysql-automatically-convert-empty-strings-to-null\n",
    "\n",
    "https://stackoverflow.com/questions/41027882/convert-nan-values-to-null-in-mysql-columns-with-python-code\n",
    "\n",
    "https://dev.mysql.com/doc/refman/8.0/en/problems-with-null.html\n",
    "\n",
    "https://www.tutorialspoint.com/can-mysql-automatically-convert-empty-strings-to-null\n",
    "\n",
    "https://www.programiz.com/python-programming/datetime/strftime\n",
    "\n",
    "https://stackoverflow.com/questions/66477410/how-can-i-insert-id-oid-5ec796a7868d607e00f4b18d-and-time-15901\n",
    "\n",
    "https://stackoverflow.com/questions/59817317/how-to-convert-multiple-columns-datatype-format-to-another-datatype-formats-at-a\n",
    "\n",
    "https://stackoverflow.com/questions/29177498/python-pandas-replace-nan-in-one-column-with-value-from-corresponding-row-of-sec"
   ]
  }
 ],
 "metadata": {
  "kernelspec": {
   "display_name": "Python 3",
   "language": "python",
   "name": "python3"
  },
  "language_info": {
   "codemirror_mode": {
    "name": "ipython",
    "version": 3
   },
   "file_extension": ".py",
   "mimetype": "text/x-python",
   "name": "python",
   "nbconvert_exporter": "python",
   "pygments_lexer": "ipython3",
   "version": "3.7.3"
  }
 },
 "nbformat": 4,
 "nbformat_minor": 4
}
