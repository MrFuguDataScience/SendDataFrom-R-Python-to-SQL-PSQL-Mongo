{
 "cells": [
  {
   "cell_type": "markdown",
   "id": "225a006a",
   "metadata": {},
   "source": [
    "# `Avoiding Duplicate Entries PSQL with Python (PSYCOPG2)`\n",
    "\n",
    "# <font color=red>Mr Fugu Data Science</font>\n",
    "\n",
    "# (◕‿◕✿)"
   ]
  },
  {
   "cell_type": "code",
   "execution_count": 11,
   "id": "665f8bf4",
   "metadata": {},
   "outputs": [
    {
     "name": "stdout",
     "output_type": "stream",
     "text": [
      "Collecting psycopg2\n",
      "  Using cached psycopg2-2.9.6.tar.gz (383 kB)\n",
      "  Preparing metadata (setup.py) ... \u001b[?25ldone\n",
      "\u001b[?25hBuilding wheels for collected packages: psycopg2\n",
      "  Building wheel for psycopg2 (setup.py) ... \u001b[?25ldone\n",
      "\u001b[?25h  Created wheel for psycopg2: filename=psycopg2-2.9.6-cp310-cp310-macosx_10_9_universal2.whl size=144642 sha256=059479152484e6e430b378b0450d031b8bdb16dee2b4b5d261888bec5a4c827e\n",
      "  Stored in directory: /Users/zatoichi59/Library/Caches/pip/wheels/a2/65/83/78e6f42d3b8e22115e894576b71799d96ab5a790b8f7bcfa85\n",
      "Successfully built psycopg2\n",
      "Installing collected packages: psycopg2\n",
      "Successfully installed psycopg2-2.9.6\n"
     ]
    }
   ],
   "source": [
    "# Verify Psycog2 Install Unblock this if you don't have PSYCOPG2\n",
    "\n",
    "# !pip3 install pymongo\n",
    "!pip3 install psycopg2\n",
    "import psycopg2             # python->psql connection\n",
    "# import psycopg2.extras\n",
    "\n",
    "# import pandas as pd         # create dataframes \n",
    "# import os                   # fetch files\n",
    "\n",
    "\n",
    "# Import the 'config' function from the config_user_dta.py file:\n",
    "# from config_user_dta import config"
   ]
  },
  {
   "cell_type": "markdown",
   "id": "1b1dfd22",
   "metadata": {},
   "source": [
    "# `You will need to create this file like me`\n",
    "\n",
    "`from config_user_dta import config`\n",
    "\n",
    "here is a link to do so: [My Github](https://github.com/MrFuguDataScience/SendDataFrom-R-Python-to-SQL-PSQL-Mongo/blob/master/HOW%20TO%20SEND%20DATA%20from%20Python%20to%20PSQL.ipynb)"
   ]
  },
  {
   "cell_type": "code",
   "execution_count": 13,
   "id": "fc7424a5",
   "metadata": {},
   "outputs": [],
   "source": [
    "import psycopg2"
   ]
  },
  {
   "cell_type": "code",
   "execution_count": null,
   "id": "9b61f2f8",
   "metadata": {},
   "outputs": [],
   "source": []
  },
  {
   "cell_type": "markdown",
   "id": "9d8d1072",
   "metadata": {},
   "source": [
    "# `lets start from the INSERT statement`\n",
    "\n",
    "When you decide to insert either a batch file, numberous CSV files or just a single line there are distinctions to consider for `avoiding duplicate entries`\n",
    "\n",
    "We have a few options depending on what scenario you fall into:\n",
    "\n",
    "1.) Is this a situation where you want to find duplicate entries you `already have in an existing DB?`\n",
    "\n",
    "2.) Are you trying to `prevent creating duplicate entries before adding` to a database?\n",
    "\n",
    "+ `performance issues:`\n",
    "\n",
    "+ ``"
   ]
  },
  {
   "cell_type": "code",
   "execution_count": null,
   "id": "67563b40",
   "metadata": {},
   "outputs": [],
   "source": []
  },
  {
   "cell_type": "markdown",
   "id": "6bd902d6",
   "metadata": {},
   "source": [
    "# Like, Share & <font color=red>SUB</font>scribe"
   ]
  },
  {
   "cell_type": "markdown",
   "id": "25a7d1f2",
   "metadata": {},
   "source": [
    "# `Citations`\n",
    "\n",
    "# ◔̯◔\n",
    "\n",
    "https://tomcam.github.io/postgres/\n",
    "\n",
    "https://aws.amazon.com/blogs/database/hidden-dangers-of-duplicate-key-violations-in-postgresql-and-how-to-avoid-them/"
   ]
  }
 ],
 "metadata": {
  "kernelspec": {
   "display_name": "Python 3 (ipykernel)",
   "language": "python",
   "name": "python3"
  },
  "language_info": {
   "codemirror_mode": {
    "name": "ipython",
    "version": 3
   },
   "file_extension": ".py",
   "mimetype": "text/x-python",
   "name": "python",
   "nbconvert_exporter": "python",
   "pygments_lexer": "ipython3",
   "version": "3.10.9"
  }
 },
 "nbformat": 4,
 "nbformat_minor": 5
}
