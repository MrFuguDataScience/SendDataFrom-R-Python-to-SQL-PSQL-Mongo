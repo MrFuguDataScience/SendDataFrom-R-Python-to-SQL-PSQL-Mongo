{
 "cells": [
  {
   "cell_type": "markdown",
   "metadata": {},
   "source": [
    "# `MongoDB updating fields`\n",
    "\n",
    "# <font color=red>Mr Fugu Data Science</font>\n",
    "\n",
    "# (◕‿◕✿)\n",
    "\n",
    "# `Purpose & Outcome:`\n",
    "\n",
    "+ Update specific fields for 1 document with csv file\n",
    "    + Update specific fields for many documents\n",
    "+ Show alternate way to deal with this using python directly\n",
    "\n",
    "**`Help Support The Channel: Buy Me A Coffee @mrfugudatasci`**"
   ]
  },
  {
   "cell_type": "code",
   "execution_count": 1,
   "metadata": {},
   "outputs": [],
   "source": [
    "import pymongo as pym      # Interface with Python <--> MongoDB \n",
    "import pandas as pd        # Create Dataframe                 \n",
    "import json                # convert file to json format"
   ]
  },
  {
   "cell_type": "markdown",
   "metadata": {},
   "source": [
    "# `File Type we will investigate:`"
   ]
  },
  {
   "cell_type": "code",
   "execution_count": 15,
   "metadata": {},
   "outputs": [],
   "source": [
    "ll={\"customer\": \"QQ\",\"address\": {\"street\": \"funtime road\",\"city\": \"Almighty\",\"country\": \"Superpower\"},\n",
    " \"stake_holder_team\": {\"Finance\": [{\"name\": \"josh\",\"email\": [\"joshh@all.com\", \"bowza@hotmail.com\"]},\n",
    "{\"name\": \"josh\",\"email\": \"josh@w.com\"}],\"Production_Management\": [],\n",
    "\"Sales_and_Order_Management\": [],\"Service_and_Support\": [],\"Supply_Chain_Management\": [],\n",
    "\"Material_Management\": [],\"Quality_Management\":[]},\"weighting_of_category\": [\n",
    "{\"category\": \"Finance\", \"weight_factor\": \"\", \"weighting_thoughts\": \"\"},\n",
    "{\"category\": \"Production_Management\", \"weight_factor\": \"\", \"weighting_thoughts\": \"\"},\n",
    "{\"category\":\"Sales_and_Order_Management\", \"weight_factor\": \"\", \"weighting_thoughts\": \"\"},\n",
    "{\"category\": \"Service_and_Support\", \"weight_factor\": \"\", \"weighting_thoughts\": \"\"},\n",
    "{\"category\":\"Supply_Chain_Management\",\"weight_factor\": \"\", \"weighting_thoughts\": \"\"},\n",
    "{\"category\":\"Material_Management\", \"weight_factor\": \"\", \"weighting_thoughts\": \"\"},\n",
    "{\"category\": \"Quality_Management\", \"weight_factor\": \"\",\"weighting_thoughts\": \"\"}],\n",
    "\"requirement_document\": [{\n",
    "\"Req\": \"\",\n",
    "\"Category\": \"\",\n",
    "\"Title\": \"\",\n",
    "\"User_Story\": \"\",\n",
    "\"Importance\": \"\",\n",
    "\"Notes\": \"\",\n",
    "\"Location\": \"\",\n",
    "\"Stakeholder_Team\": \"\",\n",
    "\"Owner\": \"\",\n",
    "\"Approver\": \"\",\n",
    "\"Documents_Associated_to_Requirement\": \"\",\n",
    "\"SA_Reviewed\": \"\",\n",
    "\"Inclusion_Date\": \"\",\n",
    "\"Module_Tool_Utility\": \"\",\n",
    "\"IQMS_Business_Requirement\": \"\",\n",
    "\"IQMS_General_Notes\": \"\",\n",
    "\"Status\": \"\" }]},\n",
    "{\"customer\": \"DD\",\"address\": {\"street\": \"Smokey st\",\"city\": \"Danger Dan\",\"country\": \"Mine\"},\n",
    " \"stake_holder_team\": {\"Finance\": [{\"name\": \"byran\",\"email\": [\"byran.g@vvti.com\"]},\n",
    "{\"name\": \"byran\",\"email\": \"byran.v@get.com\"}],\"Production_Management\": [],\n",
    "\"Sales_and_Order_Management\": [],\"Service_and_Support\": [],\"Supply_Chain_Management\": [],\n",
    "\"Material_Management\": [],\"Quality_Management\":[]},\"weighting_of_category\": [\n",
    "{\"category\": \"Finance\", \"weight_factor\": \"\", \"weighting_thoughts\": \"\"},\n",
    "{\"category\": \"Production_Management\", \"weight_factor\": \"\", \"weighting_thoughts\": \"\"},\n",
    "{\"category\":\"Sales_and_Order_Management\", \"weight_factor\": \"\", \"weighting_thoughts\": \"\"},\n",
    "{\"category\": \"Service_and_Support\", \"weight_factor\": \"\", \"weighting_thoughts\": \"\"},\n",
    "{\"category\":\"Supply_Chain_Management\",\"weight_factor\": \"\", \"weighting_thoughts\": \"\"},\n",
    "{\"category\":\"Material_Management\", \"weight_factor\": \"\", \"weighting_thoughts\": \"\"},\n",
    "{\"category\": \"Quality_Management\", \"weight_factor\": \"\",\"weighting_thoughts\": \"\"}],\n",
    "\"requirement_document\": [{\n",
    "\"Req\": \"\",\n",
    "\"Category\": \"\",\n",
    "\"Title\": \"\",\n",
    "\"User_Story\": \"\",\n",
    "\"Importance\": \"\",\n",
    "\"Notes\": \"\",\n",
    "\"Location\": \"\",\n",
    "\"Stakeholder_Team\": \"\",\n",
    "\"Owner\": \"\",\n",
    "\"Approver\": \"\",\n",
    "\"Documents_Associated_to_Requirement\": \"\",\n",
    "\"SA_Reviewed\": \"\",\n",
    "\"Inclusion_Date\": \"\",\n",
    "\"Module_Tool_Utility\": \"\",\n",
    "\"IQMS_Business_Requirement\": \"\",\n",
    "\"IQMS_General_Notes\": \"\",\n",
    "\"Status\": \"\" }]}"
   ]
  },
  {
   "cell_type": "code",
   "execution_count": 18,
   "metadata": {},
   "outputs": [],
   "source": [
    "prc=pd.DataFrame(ll)"
   ]
  },
  {
   "cell_type": "code",
   "execution_count": 23,
   "metadata": {},
   "outputs": [],
   "source": [
    "# prc.to_json('mongo_fields.json')"
   ]
  },
  {
   "cell_type": "markdown",
   "metadata": {},
   "source": [
    "# `These are the nested fields we want to update:`\n",
    "\n",
    "+ we have a .CSV file to update these.\n",
    "    + we will update 1 document then multiple documents\n",
    "    \n",
    "+ `Notice: the underscore names so I don't cause issues for queries later`"
   ]
  },
  {
   "cell_type": "code",
   "execution_count": 22,
   "metadata": {},
   "outputs": [
    {
     "data": {
      "text/plain": [
       "[{'Req': '',\n",
       "  'Category': '',\n",
       "  'Title': '',\n",
       "  'User_Story': '',\n",
       "  'Importance': '',\n",
       "  'Notes': '',\n",
       "  'Location': '',\n",
       "  'Stakeholder_Team': '',\n",
       "  'Owner': '',\n",
       "  'Approver': '',\n",
       "  'Documents_Associated_to_Requirement': '',\n",
       "  'SA_Reviewed': '',\n",
       "  'Inclusion_Date': '',\n",
       "  'Module_Tool_Utility': '',\n",
       "  'IQMS_Business_Requirement': '',\n",
       "  'IQMS_General_Notes': '',\n",
       "  'Status': ''}]"
      ]
     },
     "execution_count": 22,
     "metadata": {},
     "output_type": "execute_result"
    }
   ],
   "source": [
    "pd.read_json('mongo_fields.json')['requirement_document'][0]"
   ]
  },
  {
   "cell_type": "markdown",
   "metadata": {},
   "source": [
    "# `This is the requirements text we have to import`\n",
    "+ This can be done a few different ways:\n",
    "    + We can convert the csv to json and update collection fields\n",
    "        + individually or batch wise.\n",
    "+ You may try a `replace` to change the fields\n",
    "+ Lastly, we can do direct manipulations with pandas and add new values to dataframe then update the documents in mongo\n",
    "    \n"
   ]
  },
  {
   "cell_type": "code",
   "execution_count": 651,
   "metadata": {},
   "outputs": [
    {
     "data": {
      "text/html": [
       "<div>\n",
       "<style scoped>\n",
       "    .dataframe tbody tr th:only-of-type {\n",
       "        vertical-align: middle;\n",
       "    }\n",
       "\n",
       "    .dataframe tbody tr th {\n",
       "        vertical-align: top;\n",
       "    }\n",
       "\n",
       "    .dataframe thead th {\n",
       "        text-align: right;\n",
       "    }\n",
       "</style>\n",
       "<table border=\"1\" class=\"dataframe\">\n",
       "  <thead>\n",
       "    <tr style=\"text-align: right;\">\n",
       "      <th></th>\n",
       "      <th>Req</th>\n",
       "      <th>Category</th>\n",
       "      <th>Title</th>\n",
       "      <th>User_Story</th>\n",
       "      <th>Importance</th>\n",
       "      <th>Notes</th>\n",
       "      <th>Location</th>\n",
       "      <th>Stakeholder_Team</th>\n",
       "      <th>Owner</th>\n",
       "      <th>Approver</th>\n",
       "      <th>Documents_Associated_to_Requirement</th>\n",
       "      <th>SA_Reviewed</th>\n",
       "      <th>Inclusion_Date</th>\n",
       "      <th>Module_Tool_Utility</th>\n",
       "      <th>IQMS_Business_Requirement</th>\n",
       "      <th>IQMS_General_Notes</th>\n",
       "      <th>Status</th>\n",
       "    </tr>\n",
       "  </thead>\n",
       "  <tbody>\n",
       "    <tr>\n",
       "      <th>0</th>\n",
       "      <td>NaN</td>\n",
       "      <td>NaN</td>\n",
       "      <td>NaN</td>\n",
       "      <td>NaN</td>\n",
       "      <td>NaN</td>\n",
       "      <td>NaN</td>\n",
       "      <td>NaN</td>\n",
       "      <td>NaN</td>\n",
       "      <td>Mike Williams</td>\n",
       "      <td>NaN</td>\n",
       "      <td>NaN</td>\n",
       "      <td>NaN</td>\n",
       "      <td>NaN</td>\n",
       "      <td>NaN</td>\n",
       "      <td>NaN</td>\n",
       "      <td>NaN</td>\n",
       "      <td>NaN</td>\n",
       "    </tr>\n",
       "    <tr>\n",
       "      <th>1</th>\n",
       "      <td>1.0</td>\n",
       "      <td>PRODUCTION_MANAGEMENT</td>\n",
       "      <td>Mechanics Log</td>\n",
       "      <td>Would like to have a mechanism to record maint...</td>\n",
       "      <td>NaN</td>\n",
       "      <td>Mechanics keep track of what they did to fix a...</td>\n",
       "      <td>NaN</td>\n",
       "      <td>Maintenance</td>\n",
       "      <td>NaN</td>\n",
       "      <td>NaN</td>\n",
       "      <td>NaN</td>\n",
       "      <td>NaN</td>\n",
       "      <td>NaN</td>\n",
       "      <td>MRO</td>\n",
       "      <td>NaN</td>\n",
       "      <td>MRO with Time &amp; Attendance</td>\n",
       "      <td>NaN</td>\n",
       "    </tr>\n",
       "    <tr>\n",
       "      <th>2</th>\n",
       "      <td>NaN</td>\n",
       "      <td>NaN</td>\n",
       "      <td>NaN</td>\n",
       "      <td>NaN</td>\n",
       "      <td>NaN</td>\n",
       "      <td>NaN</td>\n",
       "      <td>NaN</td>\n",
       "      <td>NaN</td>\n",
       "      <td>JoJo Watts</td>\n",
       "      <td>NaN</td>\n",
       "      <td>NaN</td>\n",
       "      <td>NaN</td>\n",
       "      <td>NaN</td>\n",
       "      <td>NaN</td>\n",
       "      <td>NaN</td>\n",
       "      <td>NaN</td>\n",
       "      <td>NaN</td>\n",
       "    </tr>\n",
       "    <tr>\n",
       "      <th>3</th>\n",
       "      <td>2.0</td>\n",
       "      <td>ADDITIONAL_CAPABILITIES</td>\n",
       "      <td>Qpulse</td>\n",
       "      <td>Track changes and approvals to documents</td>\n",
       "      <td>NaN</td>\n",
       "      <td>Used for ISO Document management. Forms, work ...</td>\n",
       "      <td>NaN</td>\n",
       "      <td>Quality</td>\n",
       "      <td>Depesh Singh</td>\n",
       "      <td>NaN</td>\n",
       "      <td>NaN</td>\n",
       "      <td>NaN</td>\n",
       "      <td>NaN</td>\n",
       "      <td>Doc Control</td>\n",
       "      <td>NaN</td>\n",
       "      <td>Full Document Control Functionality</td>\n",
       "      <td>NaN</td>\n",
       "    </tr>\n",
       "    <tr>\n",
       "      <th>4</th>\n",
       "      <td>NaN</td>\n",
       "      <td>NaN</td>\n",
       "      <td>NaN</td>\n",
       "      <td>NaN</td>\n",
       "      <td>NaN</td>\n",
       "      <td>NaN</td>\n",
       "      <td>NaN</td>\n",
       "      <td>NaN</td>\n",
       "      <td>NaN</td>\n",
       "      <td>NaN</td>\n",
       "      <td>NaN</td>\n",
       "      <td>NaN</td>\n",
       "      <td>NaN</td>\n",
       "      <td>NaN</td>\n",
       "      <td>NaN</td>\n",
       "      <td>NaN</td>\n",
       "      <td>NaN</td>\n",
       "    </tr>\n",
       "  </tbody>\n",
       "</table>\n",
       "</div>"
      ],
      "text/plain": [
       "   Req                  Category          Title  \\\n",
       "0  NaN                       NaN            NaN   \n",
       "1  1.0    PRODUCTION_MANAGEMENT   Mechanics Log   \n",
       "2  NaN                       NaN            NaN   \n",
       "3  2.0  ADDITIONAL_CAPABILITIES          Qpulse   \n",
       "4  NaN                       NaN            NaN   \n",
       "\n",
       "                                          User_Story  Importance  \\\n",
       "0                                                NaN         NaN   \n",
       "1  Would like to have a mechanism to record maint...         NaN   \n",
       "2                                                NaN         NaN   \n",
       "3           Track changes and approvals to documents         NaN   \n",
       "4                                                NaN         NaN   \n",
       "\n",
       "                                               Notes  Location  \\\n",
       "0                                                NaN       NaN   \n",
       "1  Mechanics keep track of what they did to fix a...       NaN   \n",
       "2                                                NaN       NaN   \n",
       "3  Used for ISO Document management. Forms, work ...       NaN   \n",
       "4                                                NaN       NaN   \n",
       "\n",
       "  Stakeholder_Team          Owner  Approver  \\\n",
       "0              NaN  Mike Williams       NaN   \n",
       "1      Maintenance            NaN       NaN   \n",
       "2              NaN     JoJo Watts       NaN   \n",
       "3          Quality   Depesh Singh       NaN   \n",
       "4              NaN            NaN       NaN   \n",
       "\n",
       "   Documents_Associated_to_Requirement  SA_Reviewed   Inclusion_Date  \\\n",
       "0                                  NaN           NaN             NaN   \n",
       "1                                  NaN           NaN             NaN   \n",
       "2                                  NaN           NaN             NaN   \n",
       "3                                  NaN           NaN             NaN   \n",
       "4                                  NaN           NaN             NaN   \n",
       "\n",
       "  Module_Tool_Utility  IQMS_Business_Requirement  \\\n",
       "0                 NaN                        NaN   \n",
       "1                 MRO                        NaN   \n",
       "2                 NaN                        NaN   \n",
       "3         Doc Control                        NaN   \n",
       "4                 NaN                        NaN   \n",
       "\n",
       "                    IQMS_General_Notes  Status   \n",
       "0                                  NaN      NaN  \n",
       "1           MRO with Time & Attendance      NaN  \n",
       "2                                  NaN      NaN  \n",
       "3  Full Document Control Functionality      NaN  \n",
       "4                                  NaN      NaN  "
      ]
     },
     "execution_count": 651,
     "metadata": {},
     "output_type": "execute_result"
    }
   ],
   "source": [
    "# requirements will be the fields we update:\n",
    "business_requirements=pd.read_csv('requirements.csv')\n",
    "business_requirements.head()"
   ]
  },
  {
   "cell_type": "code",
   "execution_count": 652,
   "metadata": {},
   "outputs": [
    {
     "data": {
      "text/plain": [
       "{'Req': nan,\n",
       " 'Category': nan,\n",
       " 'Title': nan,\n",
       " 'User_Story': nan,\n",
       " 'Importance': nan,\n",
       " 'Notes': nan,\n",
       " 'Location': nan,\n",
       " 'Stakeholder_Team': nan,\n",
       " 'Owner': 'Mike Williams',\n",
       " 'Approver': nan,\n",
       " 'Documents_Associated_to_Requirement': nan,\n",
       " 'SA_Reviewed ': nan,\n",
       " 'Inclusion_Date': nan,\n",
       " 'Module_Tool_Utility': nan,\n",
       " 'IQMS_Business_Requirement': nan,\n",
       " 'IQMS_General_Notes': nan,\n",
       " 'Status ': nan}"
      ]
     },
     "execution_count": 652,
     "metadata": {},
     "output_type": "execute_result"
    }
   ],
   "source": [
    "dict_requirements=business_requirements.to_dict('records')\n",
    "dict_requirements[0]"
   ]
  },
  {
   "cell_type": "code",
   "execution_count": 653,
   "metadata": {},
   "outputs": [],
   "source": [
    "# Making a Connection to MongoClient\n",
    "client = pym.MongoClient('mongodb://localhost:27017/')\n",
    "\n",
    "# CREATING A DATABASE:\n",
    "db = client[\"fake_Business_Clients\"]\n",
    "\n",
    "# CREATING A COLLECTION (*AKA* TABLE):\n",
    "user_info_table= db[\"Business_clients_practice\"]"
   ]
  },
  {
   "cell_type": "code",
   "execution_count": 654,
   "metadata": {},
   "outputs": [],
   "source": [
    "fake_business=pd.read_json('mongo_fields.json')"
   ]
  },
  {
   "cell_type": "code",
   "execution_count": 655,
   "metadata": {},
   "outputs": [],
   "source": [
    "# Create Dict() to send to MongoDB\n",
    "fake_business_dict = fake_business.to_dict('records')"
   ]
  },
  {
   "cell_type": "code",
   "execution_count": 656,
   "metadata": {},
   "outputs": [
    {
     "data": {
      "text/plain": [
       "<pymongo.results.InsertManyResult at 0x11c9b4e48>"
      ]
     },
     "execution_count": 656,
     "metadata": {},
     "output_type": "execute_result"
    }
   ],
   "source": [
    "user_info_table.insert_many(fake_business_dict)"
   ]
  },
  {
   "cell_type": "code",
   "execution_count": 657,
   "metadata": {},
   "outputs": [
    {
     "data": {
      "text/plain": [
       "{'_id': ObjectId('5fd16cfbb3c839f7aa363ce0'),\n",
       " 'customer': 'QQ',\n",
       " 'address': {'street': 'funtime road',\n",
       "  'city': 'Almighty',\n",
       "  'country': 'Superpower'},\n",
       " 'stake_holder_team': {'Finance': [{'name': 'josh',\n",
       "    'email': ['joshh@all.com', 'bowza@hotmail.com']},\n",
       "   {'name': 'josh', 'email': 'josh@w.com'}],\n",
       "  'Production_Management': [],\n",
       "  'Sales_and_Order_Management': [],\n",
       "  'Service_and_Support': [],\n",
       "  'Supply_Chain_Management': [],\n",
       "  'Material_Management': [],\n",
       "  'Quality_Management': []},\n",
       " 'weighting_of_category': [{'category': 'Finance',\n",
       "   'weight_factor': '',\n",
       "   'weighting_thoughts': ''},\n",
       "  {'category': 'Production_Management',\n",
       "   'weight_factor': '',\n",
       "   'weighting_thoughts': ''},\n",
       "  {'category': 'Sales_and_Order_Management',\n",
       "   'weight_factor': '',\n",
       "   'weighting_thoughts': ''},\n",
       "  {'category': 'Service_and_Support',\n",
       "   'weight_factor': '',\n",
       "   'weighting_thoughts': ''},\n",
       "  {'category': 'Supply_Chain_Management',\n",
       "   'weight_factor': '',\n",
       "   'weighting_thoughts': ''},\n",
       "  {'category': 'Material_Management',\n",
       "   'weight_factor': '',\n",
       "   'weighting_thoughts': ''},\n",
       "  {'category': 'Quality_Management',\n",
       "   'weight_factor': '',\n",
       "   'weighting_thoughts': ''}],\n",
       " 'requirement_document': [{'Req': '',\n",
       "   'Category': '',\n",
       "   'Title': '',\n",
       "   'User_Story': '',\n",
       "   'Importance': '',\n",
       "   'Notes': '',\n",
       "   'Location': '',\n",
       "   'Stakeholder_Team': '',\n",
       "   'Owner': '',\n",
       "   'Approver': '',\n",
       "   'Documents_Associated_to_Requirement': '',\n",
       "   'SA_Reviewed': '',\n",
       "   'Inclusion_Date': '',\n",
       "   'Module_Tool_Utility': '',\n",
       "   'IQMS_Business_Requirement': '',\n",
       "   'IQMS_General_Notes': '',\n",
       "   'Status': ''}]}"
      ]
     },
     "execution_count": 657,
     "metadata": {},
     "output_type": "execute_result"
    }
   ],
   "source": [
    "# First Entry of 2 we sent: now we need to update the requirement fields\n",
    "user_info_table.find_one()\n"
   ]
  },
  {
   "cell_type": "markdown",
   "metadata": {},
   "source": [
    "# `Side Notes:`\n",
    "\n",
    "+ We are trying to update specific fields, but they are nested and the values are a list.\n",
    "    + If we are going inside the nesting we will use dot notation.\n",
    "+ You will get an error if you do not let the query know what keys you want correpsonding with the update."
   ]
  },
  {
   "cell_type": "markdown",
   "metadata": {},
   "source": [
    "# `Example 01: `\n",
    "\n",
    "# `Update multiple documents of nested fields`\n",
    "\n",
    "+ The empty string is used because we don't have values yet for our requirement document. \n",
    "    + As soon as you fill this up then you will need to replace them 1 by 1, which mean you would have to iterate over a list of them so mongo knows what to replace. (2nd example will show this)"
   ]
  },
  {
   "cell_type": "code",
   "execution_count": 659,
   "metadata": {},
   "outputs": [
    {
     "data": {
      "text/plain": [
       "[{'Req': nan,\n",
       "  'Category': nan,\n",
       "  'Title': nan,\n",
       "  'User_Story': nan,\n",
       "  'Importance': nan,\n",
       "  'Notes': nan,\n",
       "  'Location': nan,\n",
       "  'Stakeholder_Team': nan,\n",
       "  'Owner': 'JoJo Watts',\n",
       "  'Approver': nan,\n",
       "  'Documents_Associated_to_Requirement': nan,\n",
       "  'SA_Reviewed ': nan,\n",
       "  'Inclusion_Date': nan,\n",
       "  'Module_Tool_Utility': nan,\n",
       "  'IQMS_Business_Requirement': nan,\n",
       "  'IQMS_General_Notes': nan,\n",
       "  'Status ': nan},\n",
       " {'Req': 2.0,\n",
       "  'Category': 'ADDITIONAL_CAPABILITIES ',\n",
       "  'Title': 'Qpulse',\n",
       "  'User_Story': 'Track changes and approvals to documents',\n",
       "  'Importance': nan,\n",
       "  'Notes': \"Used for ISO Document management. Forms, work instructions, responsible, periodic review.  No check in/check out - so no real 'control'.  The review process is not currently automated - Quality Manager reviews the documents up for review and manages those.\",\n",
       "  'Location': nan,\n",
       "  'Stakeholder_Team': 'Quality',\n",
       "  'Owner': 'Depesh Singh',\n",
       "  'Approver': nan,\n",
       "  'Documents_Associated_to_Requirement': nan,\n",
       "  'SA_Reviewed ': nan,\n",
       "  'Inclusion_Date': nan,\n",
       "  'Module_Tool_Utility': 'Doc Control',\n",
       "  'IQMS_Business_Requirement': nan,\n",
       "  'IQMS_General_Notes': 'Full Document Control Functionality',\n",
       "  'Status ': nan}]"
      ]
     },
     "execution_count": 659,
     "metadata": {},
     "output_type": "execute_result"
    }
   ],
   "source": [
    "# subset our data since we only have 2 documents but more requirments for ex.\n",
    "ex_2_requirements=business_requirements[2:4].to_dict('records')\n",
    "ex_2_requirements"
   ]
  },
  {
   "cell_type": "code",
   "execution_count": 661,
   "metadata": {},
   "outputs": [],
   "source": [
    "# for i in ex_2_requirements:\n",
    "    "
   ]
  },
  {
   "cell_type": "code",
   "execution_count": 663,
   "metadata": {},
   "outputs": [],
   "source": [
    "# for some reason update_many, doesn't work here!\n",
    "for i in ex_2_requirements:\n",
    "    for j in i.items():\n",
    "        user_info_table.update_one({ # pay attn the empty string\n",
    "        'requirement_document.'+j[0]:\"\"}, #match what we are updating otherwise get error\n",
    "        {'$set': {'requirement_document.$.'+j[0]: j[1]}})\n",
    "#             ,{multi:True})\n",
    "#         ,upsert=True)"
   ]
  },
  {
   "cell_type": "code",
   "execution_count": 664,
   "metadata": {},
   "outputs": [
    {
     "name": "stdout",
     "output_type": "stream",
     "text": [
      "{'_id': ObjectId('5fd16cfbb3c839f7aa363ce0'), 'requirement_document': [{'Req': nan, 'Category': nan, 'Title': nan, 'User_Story': nan, 'Importance': nan, 'Notes': nan, 'Location': nan, 'Stakeholder_Team': nan, 'Owner': 'JoJo Watts', 'Approver': nan, 'Documents_Associated_to_Requirement': nan, 'SA_Reviewed': '', 'Inclusion_Date': nan, 'Module_Tool_Utility': nan, 'IQMS_Business_Requirement': nan, 'IQMS_General_Notes': nan, 'Status': ''}]}\n",
      "{'_id': ObjectId('5fd16cfbb3c839f7aa363ce1'), 'requirement_document': [{'Req': 2.0, 'Category': 'ADDITIONAL_CAPABILITIES ', 'Title': 'Qpulse', 'User_Story': 'Track changes and approvals to documents', 'Importance': nan, 'Notes': \"Used for ISO Document management. Forms, work instructions, responsible, periodic review.  No check in/check out - so no real 'control'.  The review process is not currently automated - Quality Manager reviews the documents up for review and manages those.\", 'Location': nan, 'Stakeholder_Team': 'Quality', 'Owner': 'Depesh Singh', 'Approver': nan, 'Documents_Associated_to_Requirement': nan, 'SA_Reviewed': '', 'Inclusion_Date': nan, 'Module_Tool_Utility': 'Doc Control', 'IQMS_Business_Requirement': nan, 'IQMS_General_Notes': 'Full Document Control Functionality', 'Status': ''}]}\n"
     ]
    }
   ],
   "source": [
    "for i in user_info_table.find({},{'requirement_document'}):\n",
    "    print(i)"
   ]
  },
  {
   "cell_type": "markdown",
   "metadata": {},
   "source": [
    "# `Example 02: Update Single Document`\n",
    "\n",
    "# `by _id, specific fields`"
   ]
  },
  {
   "cell_type": "code",
   "execution_count": 640,
   "metadata": {},
   "outputs": [
    {
     "name": "stdout",
     "output_type": "stream",
     "text": [
      "{'_id': ObjectId('5fd1657db3c839f7aa363cdb'), 'customer': 'QQ', 'address': {'street': 'funtime road', 'city': 'Almighty', 'country': 'Superpower'}, 'stake_holder_team': {'Finance': [{'name': 'josh', 'email': ['joshh@all.com', 'bowza@hotmail.com']}, {'name': 'josh', 'email': 'josh@w.com'}], 'Production_Management': [], 'Sales_and_Order_Management': [], 'Service_and_Support': [], 'Supply_Chain_Management': [], 'Material_Management': [], 'Quality_Management': []}, 'weighting_of_category': [{'category': 'Finance', 'weight_factor': '', 'weighting_thoughts': ''}, {'category': 'Production_Management', 'weight_factor': '', 'weighting_thoughts': ''}, {'category': 'Sales_and_Order_Management', 'weight_factor': '', 'weighting_thoughts': ''}, {'category': 'Service_and_Support', 'weight_factor': '', 'weighting_thoughts': ''}, {'category': 'Supply_Chain_Management', 'weight_factor': '', 'weighting_thoughts': ''}, {'category': 'Material_Management', 'weight_factor': '', 'weighting_thoughts': ''}, {'category': 'Quality_Management', 'weight_factor': '', 'weighting_thoughts': ''}], 'requirement_document': [{'Req': nan, 'Category': nan, 'Title': nan, 'User_Story': nan, 'Importance': nan, 'Notes': nan, 'Location': nan, 'Stakeholder_Team': nan, 'Owner': 'Cake Man', 'Approver': nan, 'Documents_Associated_to_Requirement': nan, 'SA_Reviewed': '', 'Inclusion_Date': nan, 'Module_Tool_Utility': nan, 'IQMS_Business_Requirement': nan, 'IQMS_General_Notes': nan, 'Status': ''}]}\n"
     ]
    }
   ],
   "source": [
    "from bson.objectid import ObjectId\n",
    "for i in user_info_table.find({\"_id\":ObjectId('5fd1657db3c839f7aa363cdb')}):\n",
    "    print(i)"
   ]
  },
  {
   "cell_type": "code",
   "execution_count": 665,
   "metadata": {},
   "outputs": [
    {
     "data": {
      "text/plain": [
       "[{'_id': ObjectId('5fd16cfbb3c839f7aa363ce0'),\n",
       "  'requirement_document': [{'Req': nan,\n",
       "    'Category': nan,\n",
       "    'Title': nan,\n",
       "    'User_Story': nan,\n",
       "    'Importance': nan,\n",
       "    'Notes': nan,\n",
       "    'Location': nan,\n",
       "    'Stakeholder_Team': nan,\n",
       "    'Owner': 'JoJo Watts',\n",
       "    'Approver': nan,\n",
       "    'Documents_Associated_to_Requirement': nan,\n",
       "    'SA_Reviewed': '',\n",
       "    'Inclusion_Date': nan,\n",
       "    'Module_Tool_Utility': nan,\n",
       "    'IQMS_Business_Requirement': nan,\n",
       "    'IQMS_General_Notes': nan,\n",
       "    'Status': ''}]}]"
      ]
     },
     "execution_count": 665,
     "metadata": {},
     "output_type": "execute_result"
    }
   ],
   "source": [
    "vals_=[]\n",
    "for i in user_info_table.find({\"_id\":ObjectId('5fd16cfbb3c839f7aa363ce0')},\n",
    "    {'requirement_document'}):\n",
    "    vals_.append(i)\n",
    "vals_"
   ]
  },
  {
   "cell_type": "markdown",
   "metadata": {},
   "source": [
    "# `Why did I need this?`\n",
    "\n",
    "+ If you want to replace those values from multiple fields we need a way to change/update the original. We are calling the original value and specifying it then we will iterate the second list of items to replace it with."
   ]
  },
  {
   "cell_type": "code",
   "execution_count": 610,
   "metadata": {},
   "outputs": [
    {
     "name": "stdout",
     "output_type": "stream",
     "text": [
      "nan\n",
      "nan\n",
      "nan\n",
      "nan\n",
      "nan\n",
      "nan\n",
      "nan\n",
      "nan\n",
      "JoJo Watts\n",
      "nan\n",
      "nan\n",
      "\n",
      "nan\n",
      "nan\n",
      "nan\n",
      "nan\n",
      "\n"
     ]
    }
   ],
   "source": [
    "\n",
    "for i in vals_[0]['requirement_document'][0].values():\n",
    "    print(i)\n",
    "    "
   ]
  },
  {
   "cell_type": "code",
   "execution_count": 498,
   "metadata": {},
   "outputs": [
    {
     "data": {
      "text/plain": [
       "dict_items([('Req', 1.0), ('Category', 'PRODUCTION_MANAGEMENT '), ('Title', 'Mechanics Log'), ('User_Story', 'Would like to have a mechanism to record mainteance activity on a machine'), ('Importance', nan), ('Notes', 'Mechanics keep track of what they did to fix an issue with the machine.  Any adjustment made to the machine is logged.  Logged in the database and reportable.'), ('Location', nan), ('Stakeholder_Team', 'Maintenance'), ('Owner', nan), ('Approver', nan), ('Documents_Associated_to_Requirement', nan), ('SA_Reviewed ', nan), ('Inclusion_Date', nan), ('Module_Tool_Utility', 'MRO'), ('IQMS_Business_Requirement', nan), ('IQMS_General_Notes', ' MRO with Time & Attendance'), ('Status ', nan)])"
      ]
     },
     "execution_count": 498,
     "metadata": {},
     "output_type": "execute_result"
    }
   ],
   "source": [
    "# replacement values:\n",
    "dict_requirements[1].items()"
   ]
  },
  {
   "cell_type": "code",
   "execution_count": 666,
   "metadata": {},
   "outputs": [],
   "source": [
    "for i in vals_[0]['requirement_document'][0].values(): # what to replace\n",
    "    for ii in dict_requirements[1].items(): # what to replace with\n",
    "        user_info_table.update_one({'_id':ObjectId('5fd16cfbb3c839f7aa363ce0'), \n",
    "        'requirement_document.'+ii[0]:i}, #match what we are updating otherwise get error\n",
    "        {'$set': {'requirement_document.$.'+ii[0]: ii[1]}}) #update each key/val pair\n",
    "\n",
    "   # {'$set': {'requirement_document:dict_requirements[1]}},upsert=True)\n",
    "\n",
    "# look into multi:true or multi=True because I can't get it to work here! "
   ]
  },
  {
   "cell_type": "code",
   "execution_count": 667,
   "metadata": {},
   "outputs": [
    {
     "name": "stdout",
     "output_type": "stream",
     "text": [
      "{'_id': ObjectId('5fd16cfbb3c839f7aa363ce0'), 'requirement_document': [{'Req': 1.0, 'Category': 'PRODUCTION_MANAGEMENT ', 'Title': 'Mechanics Log', 'User_Story': 'Would like to have a mechanism to record mainteance activity on a machine', 'Importance': nan, 'Notes': 'Mechanics keep track of what they did to fix an issue with the machine.  Any adjustment made to the machine is logged.  Logged in the database and reportable.', 'Location': nan, 'Stakeholder_Team': 'Maintenance', 'Owner': nan, 'Approver': nan, 'Documents_Associated_to_Requirement': nan, 'SA_Reviewed': '', 'Inclusion_Date': nan, 'Module_Tool_Utility': 'MRO', 'IQMS_Business_Requirement': nan, 'IQMS_General_Notes': ' MRO with Time & Attendance', 'Status': ''}]}\n"
     ]
    }
   ],
   "source": [
    "# show what we changed to verify, look for 'Req:1.0 because before it was nan'\n",
    "for i in user_info_table.find({\"_id\":ObjectId('5fd16cfbb3c839f7aa363ce0')},\n",
    "                              {'requirement_document'}):\n",
    "    print(i)"
   ]
  },
  {
   "cell_type": "code",
   "execution_count": 668,
   "metadata": {},
   "outputs": [
    {
     "data": {
      "text/plain": [
       "0    [{'Req': 1.0, 'Category': 'PRODUCTION_MANAGEME...\n",
       "1    [{'Req': 2.0, 'Category': 'ADDITIONAL_CAPABILI...\n",
       "Name: requirement_document, dtype: object"
      ]
     },
     "execution_count": 668,
     "metadata": {},
     "output_type": "execute_result"
    }
   ],
   "source": [
    " pd.DataFrame(user_info_table.find({}))['requirement_document']"
   ]
  },
  {
   "cell_type": "markdown",
   "metadata": {},
   "source": [
    "# <font color=red>Like</font>,Share &\n",
    "\n",
    "# <font color=red>SUB</font>scribe\n",
    "\n",
    "**`Help Support The Channel: Buy Me A Coffee @mrfugudatasci`**"
   ]
  },
  {
   "cell_type": "markdown",
   "metadata": {},
   "source": [
    "# `Citations & Help:`\n",
    "\n",
    "# ◔̯◔\n",
    "\n",
    "https://kb.objectrocket.com/mongo-db/how-to-update-a-mongodb-document-in-python-356\n",
    "\n",
    "https://specify.io/how-tos/mongodb-update-documents\n",
    "\n",
    "https://stackoverflow.com/questions/22447652/how-to-update-multiple-values-in-mongodb-using-pymongo\n",
    "\n",
    "https://stackoverflow.com/questions/37612448/mongodb-positional-operator-error"
   ]
  }
 ],
 "metadata": {
  "kernelspec": {
   "display_name": "Python 3",
   "language": "python",
   "name": "python3"
  },
  "language_info": {
   "codemirror_mode": {
    "name": "ipython",
    "version": 3
   },
   "file_extension": ".py",
   "mimetype": "text/x-python",
   "name": "python",
   "nbconvert_exporter": "python",
   "pygments_lexer": "ipython3",
   "version": "3.7.3"
  }
 },
 "nbformat": 4,
 "nbformat_minor": 4
}
