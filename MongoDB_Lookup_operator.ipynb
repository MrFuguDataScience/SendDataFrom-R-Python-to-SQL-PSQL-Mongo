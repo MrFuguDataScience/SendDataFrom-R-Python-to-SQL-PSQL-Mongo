{
 "cells": [
  {
   "cell_type": "markdown",
   "metadata": {},
   "source": [
    "# `Viewer Help: Mongolite (R-studio) \"Lookup operator\"`\n",
    "\n",
    "# <font color=red>Mr Fugu Data Science</font>\n",
    "\n",
    "# (◕‿◕✿)"
   ]
  },
  {
   "cell_type": "code",
   "execution_count": null,
   "metadata": {},
   "outputs": [],
   "source": [
    "# library(jsonlite)  # send files to Mongo\n",
    "library(tidyverse)\n",
    "library(knitr)     # help run code\n",
    "library(markdown)  # create markdown files i.e. pdf\n",
    "library(mongolite) # Create connection/Interface R<-> Mongodb"
   ]
  },
  {
   "cell_type": "code",
   "execution_count": null,
   "metadata": {},
   "outputs": [],
   "source": [
    "# Create Connection: 'localhost'\n",
    "\n",
    "# mng_conn<-mongo(collection = 'recruiter_clients',db='berkeley')"
   ]
  },
  {
   "cell_type": "code",
   "execution_count": null,
   "metadata": {},
   "outputs": [],
   "source": []
  },
  {
   "cell_type": "code",
   "execution_count": null,
   "metadata": {},
   "outputs": [],
   "source": []
  },
  {
   "cell_type": "code",
   "execution_count": null,
   "metadata": {},
   "outputs": [],
   "source": [
    "# skills_count<-mng_conn$aggregate('[{\"$project\":{\"candidate.first_name\":1,\n",
    "#                         \"candidate.last_name\":1,\n",
    "#                         \"numberOfSkills\":{\"$cond\":{\"if\":{\"$isArray\":\"$candidate.skills\"},\n",
    "#                         \"then\":{\"$size\":\"$candidate.skills\"},\"else\":\"NA\"}}}}]')"
   ]
  },
  {
   "cell_type": "code",
   "execution_count": null,
   "metadata": {},
   "outputs": [],
   "source": []
  },
  {
   "cell_type": "markdown",
   "metadata": {},
   "source": [
    "# $lookup operator: uses a left outer join to a collection in same database\n",
    "\n",
    "+ Adds new array to document, where the fields match the document you joined\n",
    "    + **The documentation says this is from the SAME DATABASE you are trying to perfom the join**\n",
    "    + As of mongo 5.1 you can use on sharded collections\n",
    "\n",
    "`\n",
    "{\n",
    "   $lookup:\n",
    "     {\n",
    "       from: <collection to join>,\n",
    "       localField: <field from the input documents>,\n",
    "       foreignField: <field from the documents of the \"from\" collection>,\n",
    "       as: <output array field>\n",
    "     }\n",
    "}\n",
    "`\n",
    "    \n",
    "    \n",
    "# `Let's specify what is going on here:`\n",
    "    \n",
    "+ `from`: this is the collection within the same database you are working to perform your left-outer join\n",
    "    + The documents are taken from this collection and placed in the other document\n",
    "+ `localField`: you are asking the document field where the $lookup operator will use as input\n",
    "+ `$` `lookup`: operator will check if `localField` and `foreignField` exist on both ends, if for some reason between each check fails you get a result of Null.\n",
    "    + Takes the document from `from collection` based on some query and allocates to document of `input collection`\n",
    "+ `foreignField`: uses the document in the `from` collection  "
   ]
  },
  {
   "cell_type": "markdown",
   "metadata": {},
   "source": [
    "# `Lookup vs update vs insert` what is better"
   ]
  },
  {
   "cell_type": "code",
   "execution_count": null,
   "metadata": {},
   "outputs": [],
   "source": []
  },
  {
   "cell_type": "markdown",
   "metadata": {},
   "source": [
    "# `Aggregations:`\n",
    "\n"
   ]
  },
  {
   "cell_type": "code",
   "execution_count": null,
   "metadata": {},
   "outputs": [],
   "source": []
  },
  {
   "cell_type": "markdown",
   "metadata": {},
   "source": [
    "# `Ex. 1) this will be with regular` $lookup"
   ]
  },
  {
   "cell_type": "code",
   "execution_count": null,
   "metadata": {},
   "outputs": [],
   "source": []
  },
  {
   "cell_type": "markdown",
   "metadata": {},
   "source": [
    "# `Ex. 2) When something doesn't match up and what happens`"
   ]
  },
  {
   "cell_type": "code",
   "execution_count": null,
   "metadata": {},
   "outputs": [],
   "source": []
  },
  {
   "cell_type": "markdown",
   "metadata": {},
   "source": [
    "# *Investigate Specific Issues*: to see if they will affect $lookup operator\n",
    "\n",
    "`-------------------------------------------------------------`\n",
    "\n",
    "1.) What are they type() for each ID you are trying to match: for example is one a string and the other an object. I have no idea if this is an issue or not.\n",
    "\n",
    "2.) Would update_many work without a loop? \n",
    "\n",
    "3.) can you preprocess in R-studio to create a key_ value pair's which will take care of your issue of no entries, instead of the query in Mongo which is slow you said. \n",
    "\n",
    "4.) if you are getting Null values instead of a list as output something is not read correctly while doing the comparison for your foreign or local field. Try and track down what is the problem. I could only suggest that either: the type, order of your local/foreign field may be an issue. \n",
    "\n",
    "5.) Are your local and foreign fields in reverse order? I would assume if they were, maybe there would not be a printout and I think that is what happened. I am just trying to rationalize your issue...\n",
    "\n",
    "6.) Is there a chance the original data had duplicate _id values and maybe throwing this off? I have no idea what would happen, just an idea.\n"
   ]
  },
  {
   "cell_type": "code",
   "execution_count": 2,
   "metadata": {},
   "outputs": [],
   "source": [
    "# Potential problems with speed, other options..."
   ]
  },
  {
   "cell_type": "code",
   "execution_count": null,
   "metadata": {},
   "outputs": [],
   "source": []
  },
  {
   "cell_type": "markdown",
   "metadata": {},
   "source": [
    "# Like, Share & <font color=red>SUB</font>scribe"
   ]
  },
  {
   "cell_type": "markdown",
   "metadata": {},
   "source": [
    "# `Citations & Help:`\n",
    "\n",
    "# ◔̯◔\n",
    "\n",
    "https://www.stackchief.com/tutorials/%24lookup%20Examples%20%7C%20MongoDB\n",
    "\n",
    "https://www.mongodb.com/docs/manual/reference/operator/aggregation/lookup/\n",
    "\n",
    "https://hevodata.com/learn/mongodb-lookup/\n",
    "\n",
    "https://kb.objectrocket.com/mongo-db/how-to-update-multiple-mongodb-documents-in-python-359\n",
    "\n",
    "https://cran.r-project.org/web/packages/mongolite/mongolite.pdf\n",
    "\n",
    "https://www.apiref.com/mongodb/reference/operator/aggregation/lookup.html\n",
    "\n",
    "https://www.mongodb.com/community/forums/t/lookup-foreignfield-is-objectid/126872/7\n",
    "\n",
    "https://medium.com/@liams_o/lookup-in-mongodb-if-you-are-using-it-something-is-wrong-45d3fd47ac61 (review!)"
   ]
  }
 ],
 "metadata": {
  "kernelspec": {
   "display_name": "R",
   "language": "R",
   "name": "ir"
  },
  "language_info": {
   "codemirror_mode": "r",
   "file_extension": ".r",
   "mimetype": "text/x-r-source",
   "name": "R",
   "pygments_lexer": "r",
   "version": "4.0.0"
  }
 },
 "nbformat": 4,
 "nbformat_minor": 4
}
