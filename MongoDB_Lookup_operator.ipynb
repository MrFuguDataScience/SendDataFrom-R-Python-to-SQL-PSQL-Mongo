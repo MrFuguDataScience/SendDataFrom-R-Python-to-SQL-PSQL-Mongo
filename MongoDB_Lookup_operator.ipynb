{
 "cells": [
  {
   "cell_type": "markdown",
   "metadata": {},
   "source": [
    "# `Viewer Help: Mongolite (R-studio) \"Lookup operator\"`\n",
    "\n",
    "# <font color=red>Mr Fugu Data Science</font>\n",
    "\n",
    "# (◕‿◕✿)"
   ]
  },
  {
   "cell_type": "code",
   "execution_count": 13,
   "metadata": {},
   "outputs": [
    {
     "name": "stderr",
     "output_type": "stream",
     "text": [
      "Warning message:\n",
      "“replacing previous import ‘vctrs::data_frame’ by ‘tibble::data_frame’ when loading ‘dplyr’”\n",
      "── \u001b[1mAttaching packages\u001b[22m ─────────────────────────────────────── tidyverse 1.3.0 ──\n",
      "\n",
      "\u001b[32m✔\u001b[39m \u001b[34mggplot2\u001b[39m 3.3.2     \u001b[32m✔\u001b[39m \u001b[34mpurrr  \u001b[39m 0.3.4\n",
      "\u001b[32m✔\u001b[39m \u001b[34mtibble \u001b[39m 3.0.1     \u001b[32m✔\u001b[39m \u001b[34mdplyr  \u001b[39m 1.0.0\n",
      "\u001b[32m✔\u001b[39m \u001b[34mtidyr  \u001b[39m 1.1.0     \u001b[32m✔\u001b[39m \u001b[34mstringr\u001b[39m 1.4.0\n",
      "\u001b[32m✔\u001b[39m \u001b[34mreadr  \u001b[39m 1.3.1     \u001b[32m✔\u001b[39m \u001b[34mforcats\u001b[39m 0.5.0\n",
      "\n",
      "── \u001b[1mConflicts\u001b[22m ────────────────────────────────────────── tidyverse_conflicts() ──\n",
      "\u001b[31m✖\u001b[39m \u001b[34mdplyr\u001b[39m::\u001b[32mfilter()\u001b[39m masks \u001b[34mstats\u001b[39m::filter()\n",
      "\u001b[31m✖\u001b[39m \u001b[34mdplyr\u001b[39m::\u001b[32mlag()\u001b[39m    masks \u001b[34mstats\u001b[39m::lag()\n",
      "\n",
      "Warning message:\n",
      "“package ‘mongolite’ was built under R version 4.0.2”\n"
     ]
    }
   ],
   "source": [
    "# library(jsonlite)  # send files to Mongo\n",
    "library(tidyverse)\n",
    "library(knitr)     # help run code\n",
    "library(markdown)  # create markdown files i.e. pdf\n",
    "library(mongolite) # Create connection/Interface R<-> Mongodb"
   ]
  },
  {
   "cell_type": "code",
   "execution_count": 18,
   "metadata": {},
   "outputs": [],
   "source": [
    "# Create Connection: 'localhost'\n",
    "\n",
    "#''' Pay attention, you may get an error: `No suitable server`, I got it to work by\n",
    "# opening the terminal and making a mongod connection\n",
    "#'''\n",
    "\n",
    "# This is a DB and Collection created on the fly\n",
    "# Other option for this same line: db='mongodb://127.0.0.1:27017'\n",
    "\n",
    "mng_conn<-mongo(collection = 'poke_chrs',db='Poke')"
   ]
  },
  {
   "cell_type": "code",
   "execution_count": 23,
   "metadata": {},
   "outputs": [
    {
     "data": {
      "text/plain": [
       "List of 6\n",
       " $ nInserted  : int 6\n",
       " $ nMatched   : int 0\n",
       " $ nModified  : int 0\n",
       " $ nRemoved   : int 0\n",
       " $ nUpserted  : int 0\n",
       " $ writeErrors: list()"
      ]
     },
     "metadata": {},
     "output_type": "display_data"
    }
   ],
   "source": [
    "# Create Database: insert data \n",
    "\n",
    "poke_<- c('{ \"_id\" : 100, \"chr_type\" : \"Pikachu\", \"description\": \"electric type\", \"card number\" : 12 }',\n",
    "   '{ \"_id\" : 200, \"chr_type\" : \"Mew\", \"description\": \"psychic type\", \"card number\" : 6 }',\n",
    "   '{ \"_id\" : 300, \"chr_type\" : \"Charizard\", \"description\": \"fire type\", \"card number\" : 34 }',\n",
    "   '{ \"_id\" : 400, \"chr_type\" : \"Polywhirl\", \"description\": \"water type\", \"card number\" : 86 }',\n",
    "   '{ \"_id\" : 500, \"chr_type\": null, \"description\": \"Incomplete\" }',\n",
    "   '{ \"_id\" : 600 }')\n",
    "\n",
    "\n",
    "mng_conn$insert(poke_)\n"
   ]
  },
  {
   "cell_type": "code",
   "execution_count": 24,
   "metadata": {},
   "outputs": [
    {
     "data": {
      "text/html": [
       "<table class=\"dataframe\">\n",
       "<caption>A data.frame: 6 × 3</caption>\n",
       "<thead>\n",
       "\t<tr><th></th><th scope=col>chr_type</th><th scope=col>description</th><th scope=col>card number</th></tr>\n",
       "\t<tr><th></th><th scope=col>&lt;chr&gt;</th><th scope=col>&lt;chr&gt;</th><th scope=col>&lt;int&gt;</th></tr>\n",
       "</thead>\n",
       "<tbody>\n",
       "\t<tr><th scope=row>1</th><td>Pikachu  </td><td>electric type</td><td>12</td></tr>\n",
       "\t<tr><th scope=row>2</th><td>Mew      </td><td>psychic type </td><td> 6</td></tr>\n",
       "\t<tr><th scope=row>3</th><td>Charizard</td><td>fire type    </td><td>34</td></tr>\n",
       "\t<tr><th scope=row>4</th><td>Polywhirl</td><td>water type   </td><td>86</td></tr>\n",
       "\t<tr><th scope=row>5</th><td>NA       </td><td>Incomplete   </td><td>NA</td></tr>\n",
       "\t<tr><th scope=row>6</th><td>NA       </td><td>NA           </td><td>NA</td></tr>\n",
       "</tbody>\n",
       "</table>\n"
      ],
      "text/latex": [
       "A data.frame: 6 × 3\n",
       "\\begin{tabular}{r|lll}\n",
       "  & chr\\_type & description & card number\\\\\n",
       "  & <chr> & <chr> & <int>\\\\\n",
       "\\hline\n",
       "\t1 & Pikachu   & electric type & 12\\\\\n",
       "\t2 & Mew       & psychic type  &  6\\\\\n",
       "\t3 & Charizard & fire type     & 34\\\\\n",
       "\t4 & Polywhirl & water type    & 86\\\\\n",
       "\t5 & NA        & Incomplete    & NA\\\\\n",
       "\t6 & NA        & NA            & NA\\\\\n",
       "\\end{tabular}\n"
      ],
      "text/markdown": [
       "\n",
       "A data.frame: 6 × 3\n",
       "\n",
       "| <!--/--> | chr_type &lt;chr&gt; | description &lt;chr&gt; | card number &lt;int&gt; |\n",
       "|---|---|---|---|\n",
       "| 1 | Pikachu   | electric type | 12 |\n",
       "| 2 | Mew       | psychic type  |  6 |\n",
       "| 3 | Charizard | fire type     | 34 |\n",
       "| 4 | Polywhirl | water type    | 86 |\n",
       "| 5 | NA        | Incomplete    | NA |\n",
       "| 6 | NA        | NA            | NA |\n",
       "\n"
      ],
      "text/plain": [
       "  chr_type  description   card number\n",
       "1 Pikachu   electric type 12         \n",
       "2 Mew       psychic type   6         \n",
       "3 Charizard fire type     34         \n",
       "4 Polywhirl water type    86         \n",
       "5 NA        Incomplete    NA         \n",
       "6 NA        NA            NA         "
      ]
     },
     "metadata": {},
     "output_type": "display_data"
    }
   ],
   "source": [
    "mng_conn$find('{}')"
   ]
  },
  {
   "cell_type": "code",
   "execution_count": 25,
   "metadata": {},
   "outputs": [
    {
     "data": {
      "text/plain": [
       "List of 6\n",
       " $ nInserted  : int 3\n",
       " $ nMatched   : int 0\n",
       " $ nModified  : int 0\n",
       " $ nRemoved   : int 0\n",
       " $ nUpserted  : int 0\n",
       " $ writeErrors: list()"
      ]
     },
     "metadata": {},
     "output_type": "display_data"
    }
   ],
   "source": [
    "# Send Data to Collection for the Poke_ DB: (THIS IS IMPORTANT) SAME DB!!!\n",
    "\n",
    "poke_orders <- c('{ \"_id\" : 100, \"item\" : \"Pikachu\", \"price\" : 6, \"quantity\" : 3 }',\n",
    "   '{ \"_id\" : 200, \"item\" : \"Indeedee\", \"price\" : 1, \"quantity\" : 1 }',\n",
    "   '{ \"_id\" : 300 }')\n",
    "\n",
    "mng_conn<-mongo(collection = 'poke_orders',db='Poke')\n",
    "\n",
    "mng_conn$insert(poke_orders)"
   ]
  },
  {
   "cell_type": "code",
   "execution_count": 28,
   "metadata": {},
   "outputs": [
    {
     "data": {
      "text/html": [
       "<table class=\"dataframe\">\n",
       "<caption>A data.frame: 3 × 3</caption>\n",
       "<thead>\n",
       "\t<tr><th></th><th scope=col>item</th><th scope=col>price</th><th scope=col>quantity</th></tr>\n",
       "\t<tr><th></th><th scope=col>&lt;chr&gt;</th><th scope=col>&lt;int&gt;</th><th scope=col>&lt;int&gt;</th></tr>\n",
       "</thead>\n",
       "<tbody>\n",
       "\t<tr><th scope=row>1</th><td>Pikachu </td><td> 6</td><td> 3</td></tr>\n",
       "\t<tr><th scope=row>2</th><td>Indeedee</td><td> 1</td><td> 1</td></tr>\n",
       "\t<tr><th scope=row>3</th><td>NA      </td><td>NA</td><td>NA</td></tr>\n",
       "</tbody>\n",
       "</table>\n"
      ],
      "text/latex": [
       "A data.frame: 3 × 3\n",
       "\\begin{tabular}{r|lll}\n",
       "  & item & price & quantity\\\\\n",
       "  & <chr> & <int> & <int>\\\\\n",
       "\\hline\n",
       "\t1 & Pikachu  &  6 &  3\\\\\n",
       "\t2 & Indeedee &  1 &  1\\\\\n",
       "\t3 & NA       & NA & NA\\\\\n",
       "\\end{tabular}\n"
      ],
      "text/markdown": [
       "\n",
       "A data.frame: 3 × 3\n",
       "\n",
       "| <!--/--> | item &lt;chr&gt; | price &lt;int&gt; | quantity &lt;int&gt; |\n",
       "|---|---|---|---|\n",
       "| 1 | Pikachu  |  6 |  3 |\n",
       "| 2 | Indeedee |  1 |  1 |\n",
       "| 3 | NA       | NA | NA |\n",
       "\n"
      ],
      "text/plain": [
       "  item     price quantity\n",
       "1 Pikachu   6     3      \n",
       "2 Indeedee  1     1      \n",
       "3 NA       NA    NA      "
      ]
     },
     "metadata": {},
     "output_type": "display_data"
    }
   ],
   "source": [
    "mng_conn$find('{}')"
   ]
  },
  {
   "cell_type": "code",
   "execution_count": null,
   "metadata": {},
   "outputs": [],
   "source": [
    "# Create new collection to send that we will do the join with\n"
   ]
  },
  {
   "cell_type": "code",
   "execution_count": null,
   "metadata": {},
   "outputs": [],
   "source": [
    "# skills_count<-mng_conn$aggregate('[{\"$project\":{\"candidate.first_name\":1,\n",
    "#                         \"candidate.last_name\":1,\n",
    "#                         \"numberOfSkills\":{\"$cond\":{\"if\":{\"$isArray\":\"$candidate.skills\"},\n",
    "#                         \"then\":{\"$size\":\"$candidate.skills\"},\"else\":\"NA\"}}}}]')"
   ]
  },
  {
   "cell_type": "code",
   "execution_count": null,
   "metadata": {},
   "outputs": [],
   "source": []
  },
  {
   "cell_type": "markdown",
   "metadata": {},
   "source": [
    "# $lookup: uses a `left outer join` to a collection in `same` database\n",
    "\n",
    "+ Adds new array to document, where the fields match the document you joined\n",
    "    + **The documentation says this is from the SAME DATABASE you are trying to perfom the join**\n",
    "    + As of mongo 5.1 you can use on sharded collections\n",
    "\n",
    "`\n",
    "{\n",
    "   $lookup:\n",
    "     {\n",
    "       from: <collection to join>,\n",
    "       localField: <field from the input documents>,\n",
    "       foreignField: <field from the documents of the \"from\" collection>,\n",
    "       as: <output array field>\n",
    "     }\n",
    "}\n",
    "`\n",
    "    \n",
    "    \n",
    "# `Let's specify what is going on here:`\n",
    "    \n",
    "+ `from`: is the collection within the same database you are working to perform your left-outer join\n",
    "    + The documents are taken from this collection and placed in the other document\n",
    "+ `localField`: you are asking the document field where the $lookup operator will use as input\n",
    "+ `$` `lookup`: operator will check if `localField` and `foreignField` exist on both ends, if for some reason between each check fails you get a result of Null.\n",
    "    + Takes the document from the `from collection` based on some query and allocates to document of `input collection`\n",
    "+ `foreignField`: uses the document in the `from` collection and does a comparison with the `localField` and if there is not a match you end up with Null. "
   ]
  },
  {
   "cell_type": "markdown",
   "metadata": {},
   "source": [
    "# `Aggregations:`\n",
    "\n"
   ]
  },
  {
   "cell_type": "markdown",
   "metadata": {},
   "source": [
    "# `Ex. 1) Use a pipeline with ` `$` `lookup`"
   ]
  },
  {
   "cell_type": "markdown",
   "metadata": {},
   "source": [
    "+ `Insta_Post:`\n",
    "\n",
    "`\n",
    "{\n",
    "    \"title\" : \"my first job\",\n",
    "    \"author\" : \"Jimmy\",\n",
    "    \"insta_likes\" : 4\n",
    "},\n",
    "{\n",
    "    \"title\" : \"my weekend\",\n",
    "    \"author\" : \"Jimmy\",\n",
    "    \"insta_likes\" : 20\n",
    "},\n",
    "{\n",
    "    \"title\" : \"Hello :- )\",\n",
    "    \"author\" : \"Craig\",\n",
    "    \"insta_likes\" : 10\n",
    "}\n",
    "`\n",
    "\n",
    "`-----------------------`\n",
    "+ `Comments:`\n",
    "\n",
    "`\n",
    "{\n",
    "    \"postTitle\" : \"my first job\",\n",
    "    \"comment\" : \"Super fun day\",\n",
    "    \"likes\" : 5\n",
    "},\n",
    "{\n",
    "    \"postTitle\" : \"my weekend\",\n",
    "    \"comment\" : \"how is your day?\",\n",
    "    \"likes\" : 2\n",
    "},\n",
    "{\n",
    "    \"postTitle\" : \"my second post ever\",\n",
    "    \"comment\" : \"i like chocolate\",\n",
    "    \"likes\" : 11\n",
    "},\n",
    "{\n",
    "    \"postTitle\" : \"hello :- )\",\n",
    "    \"comment\" : \"not my favorite day of the week\",\n",
    "    \"likes\" : 8\n",
    "},\n",
    "{\n",
    "    \"postTitle\" : \"my last post y'all\",\n",
    "    \"comment\" : null,\n",
    "    \"likes\" : 0\n",
    "}\n",
    "`\n",
    "\n",
    "`----------------------------------`\n",
    "\n",
    "db.`insta_posts`.aggregate([\n",
    "\n",
    " { \n",
    " \n",
    " `$` `lookup:`\n",
    "     {\n",
    "      from: `\"comments\"`,\n",
    "       \n",
    "       let: { post_likes: \"$insta_likes\", posts_title: \"$title\"},\n",
    "       pipeline: [\n",
    "            { $match:\n",
    "                { $expr:\n",
    "                    { $and:\n",
    "                        [\n",
    "                           { $gt: [ \"$likes\", \"$$insta_likes\"] },\n",
    "                           { $eq: [\"$$posts_title\", \"$postTitle\" ] }\n",
    "                        ]\n",
    "                    }\n",
    "                }\n",
    "            }\n",
    "        ],\n",
    "        as: \"comments\"\n",
    "        }\n",
    " }\n",
    "])\n",
    "\n"
   ]
  },
  {
   "cell_type": "markdown",
   "metadata": {},
   "source": [
    "# `We should breakdown the above problem:`\n",
    "\n",
    "We are joining `insta_posts` with `comments` collection by `insta_likes` and checking if the `posts_title` *(local)* are in `postTitle` of the *(foreign)* collection\n",
    "\n",
    "+ **`let:`** allows us to access input collection\n",
    "    + Variables defined inside of `let` allows us to reference them: \n",
    "+ **`pipeline:`** this is executed for the collection on the join\n",
    "\n",
    "+ *`Investigate this with a comparison between collections:`* { $gt: [ \"$insta_likes\", \"$$posts_likes\"] },\n",
    "                           { $eq: [\"$$posts_title\", \"$postTitle\" ] }\n",
    "    + `$$:` this is how we reference variables from the `let` statement\n",
    "    + `$:` foreign collection variables \n",
    "    \n",
    "+ **`$expr:`** operator is used within `match` to access the variable inside `let` \n",
    "    \n",
    "Remember that the condition we are applying for the greater than `gt` opererator, we are making a check to only take posts where `postTile` matches `title` field where the `comments` have a greater like count than `post_likes`\n",
    "\n",
    "`OUTPUT:`\n",
    "\n",
    "\n",
    "`{\n",
    "    \"title\" : \"my first job\",\n",
    "    \"author\" : \"Jimmy\",\n",
    "    \"insta_likes\" : 5,\n",
    "    \"comments\" : [\n",
    "        {\n",
    "            \"postTitle\" : \"my first job\",\n",
    "            \"comment\" : \"super fun day\",\n",
    "            \"likes\" : 4\n",
    "        }\n",
    "    ]\n",
    "},`\n",
    "`{\n",
    "    \"title\" : \"my weekend\",\n",
    "    \"author\" : \"Jimmy\",\n",
    "    \"likes\" : 20,\n",
    "    \"comments\" : []\n",
    "},\n",
    "{\n",
    "\"title\" : \"hello :- )\",\n",
    "    \"author\" : \"Craig\",\n",
    "    \"likes\" : 10,\n",
    "    \"comments\" : []\n",
    "}\n",
    "`"
   ]
  },
  {
   "cell_type": "markdown",
   "metadata": {},
   "source": [
    "# `Ex. 2) When something doesn't match up and what happens`"
   ]
  },
  {
   "cell_type": "markdown",
   "metadata": {},
   "source": [
    "**`This is the formatting for MongoDB native not Mongolite`**\n",
    "\n",
    "`\n",
    "db.Pokemon_types.insert([\n",
    "   { \"_id\" : 100, \"chr_type\" : \"Pikachu\", description: \"electric type\", \"card number\" : 12 },\n",
    "   { \"_id\" : 200, \"chr_type\" : \"Mew\", description: \"psychic type\", \"card number\" : 6 },\n",
    "   { \"_id\" : 300, \"chr_type\" : \"Charizard\", description: \"fire type\", \"card number\" : 34 },\n",
    "   { \"_id\" : 400, \"chr_type\" : \"Polywhirl\", description: \"water type\", \"card number\" : 86 },\n",
    "   { \"_id\" : 500, \"chr_type\": null, description: \"Incomplete\" },\n",
    "   { \"_id\" : 600 }\n",
    "])\n",
    "`\n",
    "\n",
    "`------------------------------`\n",
    "\n",
    "`\n",
    "db.Pokemon_orders.insert([\n",
    "   { \"_id\" : 100, \"item\" : \"Pikachu\", \"price\" : 6, \"quantity\" : 3 },\n",
    "   { \"_id\" : 200, \"item\" : \"Indeedee\", \"price\" : 1, \"quantity\" : 1 },\n",
    "   { \"_id\" : 300 }\n",
    "])\n",
    "`\n",
    "\n",
    "`------------------------------`\n",
    "\n",
    "`\n",
    "db.Pokemon_orders.aggregate([`\n",
    "   {\n",
    "     `$` `lookup:`\n",
    "       `{\n",
    "         from: \"Pokemon_types\",\n",
    "         localField: \"item\",\n",
    "         foreignField: \"chr_type\",\n",
    "         as: \"inventory_sales_dta\"\n",
    "       }\n",
    "  }\n",
    "])`\n"
   ]
  },
  {
   "cell_type": "markdown",
   "metadata": {},
   "source": [
    "# `What are we expecting for output?`"
   ]
  },
  {
   "cell_type": "markdown",
   "metadata": {},
   "source": [
    "`\n",
    "{\n",
    "   \"_id\" : 100,\n",
    "   \"item\" : \"Pikachu\",\n",
    "   \"price\" : 6,\n",
    "   \"quantity\" : 3,\n",
    "   \"inventory_sales\" : [\n",
    "      { \"_id\" : 100, \"chr_type\" : \"Pikachu\", \"description\" : \"electric type\", \"card number\" : 12 }\n",
    "   ]\n",
    "}\n",
    "{\n",
    "   \"_id\" : 200,\n",
    "   \"item\" : \"Indeedee\",\n",
    "   \"price\" : 1,\n",
    "   \"quantity\" : 1,\n",
    "   \"inventory_docs\" : [\n",
    "      { \"_id\" : 400, \"chr_type\" : \"Indeedee\", \"description\" : \"psychic type\", \"card number\" : 6 }\n",
    "   ]\n",
    "}\n",
    "{\n",
    "   \"_id\" : 300,\n",
    "   \"inventory_docs\" : [\n",
    "      { \"_id\" : 500, \"chr_type\" : null, \"description\" : \"Incomplete\" },\n",
    "      { \"_id\" : 600 }\n",
    "   ]\n",
    "}\n",
    "`"
   ]
  },
  {
   "cell_type": "markdown",
   "metadata": {},
   "source": [
    "# `Potential problems with speed, other options...`\n",
    "\n",
    "+ If you are not using an `index` this will affect speed because, you need to do comparisons on everything.\n",
    "    + Consider, `index on foreignField`\n",
    "+ Consider doing `profiling` to track the speed if needed. \n",
    "    + Nested collection scans are also a problem for your speed as well!\n",
    "    \n",
    "+ `Match` operator should be considered if possible over `lookup` because of using less comparisons\n",
    "   \n",
    "\n",
    "\n",
    "`-----------------------------------------`\n",
    "\n",
    "**`Speed Up Options For Your MongoDB Life:`**\n",
    "\n",
    "+ If you have `queries you do frequently`, consider `storing sub-queries in separate documents` for faster reads\n",
    "\n",
    "+ Create an `Index` for fields you use often is encouraged\n",
    "\n",
    "+ Check for slow queries by looking at your logs and then at your indices used\n",
    "\n",
    "+ **`Referencing:`** such as saving an _id from one document into another \n",
    "    + Many : Many relationships are good for `referencing` but, understand you are making more calls 'round trips'\n",
    "    + Documents > 16mb in size\n",
    "    + If you have a document that gets updated and grows relative to other parts of document \n",
    "\n",
    "+ **`Embedding:`** think of this as nesting a document\n",
    "    + This can help if you are accessing the same items at once and improves read times of a document\n",
    "    + Updates are improved because you are doing this all at once\n",
    "    + Most but not all, 1:1 relationships could benefit from embedding into a single document\n",
    "    + 1:many relationships are a good contender as well if multiple items/objects appear with the parent document\n",
    "    \n",
    "+ **`Large Files, Memory, Off loading Resources:`** If you have data that cannot fit into memory\n",
    "    + `Sharding or Replication` are good options when dealing with large data, splitting up jobs, saving in different locations for redundancy or speed ups. \n",
    "    "
   ]
  },
  {
   "cell_type": "markdown",
   "metadata": {},
   "source": [
    "# `Indexing:`\n",
    "\n",
    "some_collection$index(add = '{\"price\" : 1}')\n",
    "\n",
    "# `Add index on multiple fields:`\n",
    "\n",
    "some_collection$index(add = '{\"depth\" : 1, \"price\" : 1}')\n",
    "\n",
    "# `Remove Index:`\n",
    "\n",
    "some_collection$index(remove = 'depth_1_price_1')\n",
    "\n",
    "\n",
    "# `Remove All Indices:`\n",
    "\n",
    "some_collection$index(remove = 'depth_1')"
   ]
  },
  {
   "cell_type": "code",
   "execution_count": 12,
   "metadata": {},
   "outputs": [],
   "source": [
    "# Referencing:\n",
    "\n",
    "# https://www.mongodb.com/docs/manual/reference/database-references/"
   ]
  },
  {
   "cell_type": "markdown",
   "metadata": {},
   "source": [
    "# `Last mention:`\n",
    "\n",
    "+ Investigate `unwind` operator:\n",
    "\n",
    "+ Flatten Lists\n",
    "\n",
    "\n",
    "`-----------------------------------`"
   ]
  },
  {
   "cell_type": "markdown",
   "metadata": {},
   "source": [
    "# Like, Share & <font color=red>SUB</font>scribe\n",
    "\n",
    "`Thank you for my channel members and those who have helped support the channel!`"
   ]
  },
  {
   "cell_type": "markdown",
   "metadata": {},
   "source": [
    "# `Citations & Help:`\n",
    "\n",
    "# ◔̯◔\n",
    "\n",
    "https://www.stackchief.com/tutorials/%24lookup%20Examples%20%7C%20MongoDB\n",
    "\n",
    "https://www.mongodb.com/docs/manual/reference/operator/aggregation/lookup/\n",
    "\n",
    "https://hevodata.com/learn/mongodb-lookup/\n",
    "\n",
    "https://kb.objectrocket.com/mongo-db/how-to-update-multiple-mongodb-documents-in-python-359\n",
    "\n",
    "https://cran.r-project.org/web/packages/mongolite/mongolite.pdf\n",
    "\n",
    "https://www.apiref.com/mongodb/reference/operator/aggregation/lookup.html\n",
    "\n",
    "https://www.mongodb.com/community/forums/t/lookup-foreignfield-is-objectid/126872/7\n",
    "\n",
    "https://medium.com/@liams_o/lookup-in-mongodb-if-you-are-using-it-something-is-wrong-45d3fd47ac61 (review!)\n",
    "\n",
    "https://stackoverflow.com/questions/43742635/poor-lookup-aggregation-performance\n",
    "\n",
    "https://mongodb.github.io/mongo-java-driver/3.2/builders/aggregation/\n",
    "\n",
    "https://www.tutorialspoint.com/mongodb/mongodb_database_references.htm\n",
    "\n",
    "`Examples with pipelines`\n",
    "\n",
    "https://www.stackchief.com/tutorials/%24lookup%20Examples%20%7C%20MongoDB\n",
    "\n",
    "https://www.educba.com/lookup-in-mongodb/\n",
    "\n",
    "https://appradius.co/blog/5-mongodb-aggregate-methods\n",
    "\n",
    "https://www.mongodb.com/docs/v4.2/reference/operator/aggregation/lookup/\n",
    "\n",
    "`---------------------- Speed Up ---------------------`\n",
    "\n",
    "https://medium.com/mongodb-performance-tuning/coding-efficient-mongodb-joins-97fe0627751a\n",
    "\n",
    "https://medium.com/mongodb-performance-tuning/optimizing-the-order-of-aggregation-pipelines-44c7e3f4d5dd\n",
    "\n",
    "https://www.mongodb.com/basics/best-practices\n",
    "\n",
    "\n",
    "https://jeroen.github.io/mongolite/query-data.html#indexing (overall good examples for Mongolite)"
   ]
  }
 ],
 "metadata": {
  "kernelspec": {
   "display_name": "R",
   "language": "R",
   "name": "ir"
  },
  "language_info": {
   "codemirror_mode": "r",
   "file_extension": ".r",
   "mimetype": "text/x-r-source",
   "name": "R",
   "pygments_lexer": "r",
   "version": "4.0.0"
  }
 },
 "nbformat": 4,
 "nbformat_minor": 4
}
